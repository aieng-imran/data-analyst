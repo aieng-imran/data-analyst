{
 "cells": [
  {
   "cell_type": "markdown",
   "id": "877f4aea",
   "metadata": {},
   "source": [
    "# Random Numbers\n",
    "\n",
    "1) Random Generators\n",
    "\n",
    "2) Head 0r Tails\n",
    "\n",
    "3) Distribution (Histogram)"
   ]
  },
  {
   "cell_type": "code",
   "execution_count": 8,
   "id": "87cf29d2",
   "metadata": {},
   "outputs": [
    {
     "data": {
      "text/plain": [
       "0.28613933495037946"
      ]
     },
     "execution_count": 8,
     "metadata": {},
     "output_type": "execute_result"
    }
   ],
   "source": [
    "import numpy as np\n",
    "np.random.rand() # Pseudo-random numbers"
   ]
  },
  {
   "cell_type": "code",
   "execution_count": 9,
   "id": "91aecb50",
   "metadata": {},
   "outputs": [
    {
     "data": {
      "text/plain": [
       "0.2268514535642031"
      ]
     },
     "execution_count": 9,
     "metadata": {},
     "output_type": "execute_result"
    }
   ],
   "source": [
    "np.random.rand()"
   ]
  },
  {
   "cell_type": "code",
   "execution_count": 6,
   "id": "c3b029f4",
   "metadata": {},
   "outputs": [
    {
     "data": {
      "text/plain": [
       "0.6964691855978616"
      ]
     },
     "execution_count": 6,
     "metadata": {},
     "output_type": "execute_result"
    }
   ],
   "source": [
    "# Seed ensures that the SAME NUMBER is generated EVERYTIME\n",
    "np.random.seed(123) # Starting from a seed\n",
    "np.random.rand()"
   ]
  },
  {
   "cell_type": "code",
   "execution_count": 7,
   "id": "6f86013b",
   "metadata": {},
   "outputs": [
    {
     "data": {
      "text/plain": [
       "0.6964691855978616"
      ]
     },
     "execution_count": 7,
     "metadata": {},
     "output_type": "execute_result"
    }
   ],
   "source": [
    "# Seed ensures that the SAME NUMBER is generated EVERYTIME\n",
    "np.random.seed(123) # Starting from a seed\n",
    "np.random.rand()"
   ]
  },
  {
   "cell_type": "markdown",
   "id": "23f0f55d",
   "metadata": {},
   "source": [
    "### Coin Toss"
   ]
  },
  {
   "cell_type": "code",
   "execution_count": 27,
   "id": "10c95255",
   "metadata": {},
   "outputs": [
    {
     "name": "stdout",
     "output_type": "stream",
     "text": [
      "1\n",
      "tails\n"
     ]
    }
   ],
   "source": [
    "import numpy as np\n",
    "coin = np.random.randint(0,2) # Randomly generate 0 or 1\n",
    "print(coin)\n",
    "if coin == 0:\n",
    "    print(\"heads\")\n",
    "else:\n",
    "    print(\"tails\")"
   ]
  },
  {
   "cell_type": "markdown",
   "id": "45cb1128",
   "metadata": {},
   "source": [
    "## Random Walk"
   ]
  },
  {
   "cell_type": "code",
   "execution_count": 33,
   "id": "08a5e6a4",
   "metadata": {},
   "outputs": [
    {
     "data": {
      "text/plain": [
       "'\\nKnown in Science\\nPath of molecules\\nGambler\\n'"
      ]
     },
     "execution_count": 33,
     "metadata": {},
     "output_type": "execute_result"
    }
   ],
   "source": [
    "# \"\"\"\n",
    "# Known in Science\n",
    "# Path of molecules\n",
    "# Gambler\n",
    "# \"\"\""
   ]
  },
  {
   "cell_type": "markdown",
   "id": "ff243963",
   "metadata": {},
   "source": [
    "### Heads or Tails"
   ]
  },
  {
   "cell_type": "code",
   "execution_count": 34,
   "id": "5a751409",
   "metadata": {},
   "outputs": [
    {
     "name": "stdout",
     "output_type": "stream",
     "text": [
      "['heads', 'tails', 'heads', 'heads', 'heads', 'heads', 'heads', 'tails', 'tails', 'heads']\n"
     ]
    }
   ],
   "source": [
    "import numpy as np\n",
    "np.random.seed(123)\n",
    "outcomes = []\n",
    "for x in range(10) :\n",
    "    coin = np.random.randint(0, 2)\n",
    "    if coin == 0 :\n",
    "        outcomes.append(\"heads\")\n",
    "    else :\n",
    "        outcomes.append(\"tails\")\n",
    "print(outcomes)"
   ]
  },
  {
   "cell_type": "markdown",
   "id": "9206851c",
   "metadata": {},
   "source": [
    "### Heads or Tails: Random Walk"
   ]
  },
  {
   "cell_type": "code",
   "execution_count": 35,
   "id": "bab803a9",
   "metadata": {},
   "outputs": [
    {
     "name": "stdout",
     "output_type": "stream",
     "text": [
      "[0, 0, 1, 1, 1, 1, 1, 1, 2, 3, 3]\n"
     ]
    }
   ],
   "source": [
    "import numpy as np\n",
    "np.random.seed(123)\n",
    "tails = [0]\n",
    "for x in range(10) :\n",
    "    coin = np.random.randint(0, 2)\n",
    "    tails.append(tails[x] + coin)\n",
    "print(tails)"
   ]
  },
  {
   "cell_type": "code",
   "execution_count": null,
   "id": "3be271e7",
   "metadata": {},
   "outputs": [],
   "source": [
    "# Here 3 shows that \"tails\" came out thrice ^^^ above!"
   ]
  },
  {
   "cell_type": "markdown",
   "id": "98e52ddb",
   "metadata": {},
   "source": [
    "## Distribution"
   ]
  },
  {
   "cell_type": "code",
   "execution_count": 37,
   "id": "85ec9055",
   "metadata": {},
   "outputs": [
    {
     "data": {
      "image/png": "[encoded data removed]",
      "text/plain": [
       "<Figure size 432x288 with 1 Axes>"
      ]
     },
     "metadata": {
      "needs_background": "light"
     },
     "output_type": "display_data"
    }
   ],
   "source": [
    "import numpy as np\n",
    "import matplotlib.pyplot as plt\n",
    "np.random.seed(123)\n",
    "final_tails = []\n",
    "for x in range(10000) : # <--\n",
    "    tails = [0]\n",
    "    for x in range(10) :\n",
    "        coin = np.random.randint(0, 2)\n",
    "        tails.append(tails[x] + coin)\n",
    "    final_tails.append(tails[-1])\n",
    "plt.hist(final_tails, bins = 10)\n",
    "plt.show()"
   ]
  },
  {
   "cell_type": "code",
   "execution_count": null,
   "id": "07fd60ab",
   "metadata": {},
   "outputs": [],
   "source": []
  }
 ],
 "metadata": {
  "kernelspec": {
   "display_name": "Python 3 (ipykernel)",
   "language": "python",
   "name": "python3"
  },
  "language_info": {
   "codemirror_mode": {
    "name": "ipython",
    "version": 3
   },
   "file_extension": ".py",
   "mimetype": "text/x-python",
   "name": "python",
   "nbconvert_exporter": "python",
   "pygments_lexer": "ipython3",
   "version": "3.9.7"
  }
 },
 "nbformat": 4,
 "nbformat_minor": 5
}
