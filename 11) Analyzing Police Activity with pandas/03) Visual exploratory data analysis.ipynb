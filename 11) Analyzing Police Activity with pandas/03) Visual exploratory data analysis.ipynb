{
 "cells": [
  {
   "cell_type": "markdown",
   "id": "736cabf4",
   "metadata": {},
   "source": [
    "# Visual exploratory data analysis\n",
    "\n",
    "Are you more likely to get arrested at a certain time of day? \n",
    "Are drug-related stops on the rise? In this chapter, you will answer \n",
    "these and other questions by analyzing the dataset visually, since plots \n",
    "can help you to understand trends in a way that examining the raw data cannot.\n",
    "\n"
   ]
  },
  {
   "cell_type": "markdown",
   "id": "a05bf71b",
   "metadata": {},
   "source": [
    "## Does time of day affect arrest rate?\n",
    "\n",
    "1) Analyzing datetime data\n",
    "\n",
    "2) Accessing datetime attributes\n",
    "\n",
    "3) Calculating the monthly mean price\n",
    "\n",
    "4) Resampling the price\n",
    "\n",
    "5) Concatenating price and volume\n",
    "\n",
    "6) Computing a frequency table\n",
    "\n",
    "7) Mapping one set of values to another"
   ]
  },
  {
   "cell_type": "code",
   "execution_count": 84,
   "id": "5d9af169",
   "metadata": {},
   "outputs": [
    {
     "data": {
      "text/html": [
       "<div>\n",
       "<style scoped>\n",
       "    .dataframe tbody tr th:only-of-type {\n",
       "        vertical-align: middle;\n",
       "    }\n",
       "\n",
       "    .dataframe tbody tr th {\n",
       "        vertical-align: top;\n",
       "    }\n",
       "\n",
       "    .dataframe thead th {\n",
       "        text-align: right;\n",
       "    }\n",
       "</style>\n",
       "<table border=\"1\" class=\"dataframe\">\n",
       "  <thead>\n",
       "    <tr style=\"text-align: right;\">\n",
       "      <th></th>\n",
       "      <th>date</th>\n",
       "      <th>time</th>\n",
       "      <th>price</th>\n",
       "      <th>volume</th>\n",
       "      <th>change</th>\n",
       "    </tr>\n",
       "  </thead>\n",
       "  <tbody>\n",
       "    <tr>\n",
       "      <th>0</th>\n",
       "      <td>2/13/2018</td>\n",
       "      <td>16:00</td>\n",
       "      <td>164.34</td>\n",
       "      <td>21075906</td>\n",
       "      <td>up</td>\n",
       "    </tr>\n",
       "    <tr>\n",
       "      <th>1</th>\n",
       "      <td>2/14/2018</td>\n",
       "      <td>16:00</td>\n",
       "      <td>167.37</td>\n",
       "      <td>62531550</td>\n",
       "      <td>up</td>\n",
       "    </tr>\n",
       "    <tr>\n",
       "      <th>2</th>\n",
       "      <td>2/15/2018</td>\n",
       "      <td>16:00</td>\n",
       "      <td>172.99</td>\n",
       "      <td>27979650</td>\n",
       "      <td>up</td>\n",
       "    </tr>\n",
       "    <tr>\n",
       "      <th>3</th>\n",
       "      <td>3/13/2018</td>\n",
       "      <td>16:00</td>\n",
       "      <td>173.45</td>\n",
       "      <td>31095700</td>\n",
       "      <td>up</td>\n",
       "    </tr>\n",
       "    <tr>\n",
       "      <th>4</th>\n",
       "      <td>3/14/2018</td>\n",
       "      <td>16:00</td>\n",
       "      <td>174.60</td>\n",
       "      <td>43156892</td>\n",
       "      <td>up</td>\n",
       "    </tr>\n",
       "    <tr>\n",
       "      <th>5</th>\n",
       "      <td>3/15/2018</td>\n",
       "      <td>16:00</td>\n",
       "      <td>174.80</td>\n",
       "      <td>33568497</td>\n",
       "      <td>up</td>\n",
       "    </tr>\n",
       "    <tr>\n",
       "      <th>6</th>\n",
       "      <td>4/13/2018</td>\n",
       "      <td>16:00</td>\n",
       "      <td>173.50</td>\n",
       "      <td>41365985</td>\n",
       "      <td>down</td>\n",
       "    </tr>\n",
       "    <tr>\n",
       "      <th>7</th>\n",
       "      <td>4/14/2018</td>\n",
       "      <td>16:00</td>\n",
       "      <td>173.00</td>\n",
       "      <td>23985674</td>\n",
       "      <td>down</td>\n",
       "    </tr>\n",
       "    <tr>\n",
       "      <th>8</th>\n",
       "      <td>4/15/2018</td>\n",
       "      <td>16:00</td>\n",
       "      <td>165.50</td>\n",
       "      <td>58964726</td>\n",
       "      <td>down</td>\n",
       "    </tr>\n",
       "  </tbody>\n",
       "</table>\n",
       "</div>"
      ],
      "text/plain": [
       "        date   time   price    volume change\n",
       "0  2/13/2018  16:00  164.34  21075906     up\n",
       "1  2/14/2018  16:00  167.37  62531550     up\n",
       "2  2/15/2018  16:00  172.99  27979650     up\n",
       "3  3/13/2018  16:00  173.45  31095700     up\n",
       "4  3/14/2018  16:00  174.60  43156892     up\n",
       "5  3/15/2018  16:00  174.80  33568497     up\n",
       "6  4/13/2018  16:00  173.50  41365985   down\n",
       "7  4/14/2018  16:00  173.00  23985674   down\n",
       "8  4/15/2018  16:00  165.50  58964726   down"
      ]
     },
     "execution_count": 84,
     "metadata": {},
     "output_type": "execute_result"
    }
   ],
   "source": [
    "import pandas as pd\n",
    "\n",
    "apple = pd.read_csv('./Data/aal.csv', index_col = 0)\n",
    "apple"
   ]
  },
  {
   "cell_type": "code",
   "execution_count": 85,
   "id": "e7d92bc1",
   "metadata": {},
   "outputs": [
    {
     "data": {
      "text/plain": [
       "0    2-13-2018\n",
       "1    2-14-2018\n",
       "2    2-15-2018\n",
       "3    3-13-2018\n",
       "4    3-14-2018\n",
       "5    3-15-2018\n",
       "6    4-13-2018\n",
       "7    4-14-2018\n",
       "8    4-15-2018\n",
       "Name: date, dtype: object"
      ]
     },
     "execution_count": 85,
     "metadata": {},
     "output_type": "execute_result"
    }
   ],
   "source": [
    "# The below-mentioned few codes are picked from Chapter-1\n",
    "\n",
    "apple.date.str.replace('/', '-')"
   ]
  },
  {
   "cell_type": "code",
   "execution_count": 86,
   "id": "92eb0cba",
   "metadata": {},
   "outputs": [],
   "source": [
    "combined = apple.date.str.cat(apple.time, sep=' ')"
   ]
  },
  {
   "cell_type": "code",
   "execution_count": 87,
   "id": "6fd95345",
   "metadata": {},
   "outputs": [
    {
     "data": {
      "text/plain": [
       "0    2/13/2018 16:00\n",
       "1    2/14/2018 16:00\n",
       "2    2/15/2018 16:00\n",
       "3    3/13/2018 16:00\n",
       "4    3/14/2018 16:00\n",
       "5    3/15/2018 16:00\n",
       "6    4/13/2018 16:00\n",
       "7    4/14/2018 16:00\n",
       "8    4/15/2018 16:00\n",
       "Name: date, dtype: object"
      ]
     },
     "execution_count": 87,
     "metadata": {},
     "output_type": "execute_result"
    }
   ],
   "source": [
    "combined"
   ]
  },
  {
   "cell_type": "code",
   "execution_count": 88,
   "id": "55163d39",
   "metadata": {},
   "outputs": [
    {
     "data": {
      "text/html": [
       "<div>\n",
       "<style scoped>\n",
       "    .dataframe tbody tr th:only-of-type {\n",
       "        vertical-align: middle;\n",
       "    }\n",
       "\n",
       "    .dataframe tbody tr th {\n",
       "        vertical-align: top;\n",
       "    }\n",
       "\n",
       "    .dataframe thead th {\n",
       "        text-align: right;\n",
       "    }\n",
       "</style>\n",
       "<table border=\"1\" class=\"dataframe\">\n",
       "  <thead>\n",
       "    <tr style=\"text-align: right;\">\n",
       "      <th></th>\n",
       "      <th>date</th>\n",
       "      <th>time</th>\n",
       "      <th>price</th>\n",
       "      <th>volume</th>\n",
       "      <th>change</th>\n",
       "      <th>date_and_time</th>\n",
       "    </tr>\n",
       "  </thead>\n",
       "  <tbody>\n",
       "    <tr>\n",
       "      <th>0</th>\n",
       "      <td>2/13/2018</td>\n",
       "      <td>16:00</td>\n",
       "      <td>164.34</td>\n",
       "      <td>21075906</td>\n",
       "      <td>up</td>\n",
       "      <td>2018-02-13 16:00:00</td>\n",
       "    </tr>\n",
       "    <tr>\n",
       "      <th>1</th>\n",
       "      <td>2/14/2018</td>\n",
       "      <td>16:00</td>\n",
       "      <td>167.37</td>\n",
       "      <td>62531550</td>\n",
       "      <td>up</td>\n",
       "      <td>2018-02-14 16:00:00</td>\n",
       "    </tr>\n",
       "    <tr>\n",
       "      <th>2</th>\n",
       "      <td>2/15/2018</td>\n",
       "      <td>16:00</td>\n",
       "      <td>172.99</td>\n",
       "      <td>27979650</td>\n",
       "      <td>up</td>\n",
       "      <td>2018-02-15 16:00:00</td>\n",
       "    </tr>\n",
       "    <tr>\n",
       "      <th>3</th>\n",
       "      <td>3/13/2018</td>\n",
       "      <td>16:00</td>\n",
       "      <td>173.45</td>\n",
       "      <td>31095700</td>\n",
       "      <td>up</td>\n",
       "      <td>2018-03-13 16:00:00</td>\n",
       "    </tr>\n",
       "    <tr>\n",
       "      <th>4</th>\n",
       "      <td>3/14/2018</td>\n",
       "      <td>16:00</td>\n",
       "      <td>174.60</td>\n",
       "      <td>43156892</td>\n",
       "      <td>up</td>\n",
       "      <td>2018-03-14 16:00:00</td>\n",
       "    </tr>\n",
       "    <tr>\n",
       "      <th>5</th>\n",
       "      <td>3/15/2018</td>\n",
       "      <td>16:00</td>\n",
       "      <td>174.80</td>\n",
       "      <td>33568497</td>\n",
       "      <td>up</td>\n",
       "      <td>2018-03-15 16:00:00</td>\n",
       "    </tr>\n",
       "    <tr>\n",
       "      <th>6</th>\n",
       "      <td>4/13/2018</td>\n",
       "      <td>16:00</td>\n",
       "      <td>173.50</td>\n",
       "      <td>41365985</td>\n",
       "      <td>down</td>\n",
       "      <td>2018-04-13 16:00:00</td>\n",
       "    </tr>\n",
       "    <tr>\n",
       "      <th>7</th>\n",
       "      <td>4/14/2018</td>\n",
       "      <td>16:00</td>\n",
       "      <td>173.00</td>\n",
       "      <td>23985674</td>\n",
       "      <td>down</td>\n",
       "      <td>2018-04-14 16:00:00</td>\n",
       "    </tr>\n",
       "    <tr>\n",
       "      <th>8</th>\n",
       "      <td>4/15/2018</td>\n",
       "      <td>16:00</td>\n",
       "      <td>165.50</td>\n",
       "      <td>58964726</td>\n",
       "      <td>down</td>\n",
       "      <td>2018-04-15 16:00:00</td>\n",
       "    </tr>\n",
       "  </tbody>\n",
       "</table>\n",
       "</div>"
      ],
      "text/plain": [
       "        date   time   price    volume change       date_and_time\n",
       "0  2/13/2018  16:00  164.34  21075906     up 2018-02-13 16:00:00\n",
       "1  2/14/2018  16:00  167.37  62531550     up 2018-02-14 16:00:00\n",
       "2  2/15/2018  16:00  172.99  27979650     up 2018-02-15 16:00:00\n",
       "3  3/13/2018  16:00  173.45  31095700     up 2018-03-13 16:00:00\n",
       "4  3/14/2018  16:00  174.60  43156892     up 2018-03-14 16:00:00\n",
       "5  3/15/2018  16:00  174.80  33568497     up 2018-03-15 16:00:00\n",
       "6  4/13/2018  16:00  173.50  41365985   down 2018-04-13 16:00:00\n",
       "7  4/14/2018  16:00  173.00  23985674   down 2018-04-14 16:00:00\n",
       "8  4/15/2018  16:00  165.50  58964726   down 2018-04-15 16:00:00"
      ]
     },
     "execution_count": 88,
     "metadata": {},
     "output_type": "execute_result"
    }
   ],
   "source": [
    "apple['date_and_time'] = pd.to_datetime(combined)\n",
    "apple"
   ]
  },
  {
   "cell_type": "code",
   "execution_count": 89,
   "id": "c4966d28",
   "metadata": {},
   "outputs": [
    {
     "data": {
      "text/plain": [
       "date                     object\n",
       "time                     object\n",
       "price                   float64\n",
       "volume                    int64\n",
       "change                   object\n",
       "date_and_time    datetime64[ns]\n",
       "dtype: object"
      ]
     },
     "execution_count": 89,
     "metadata": {},
     "output_type": "execute_result"
    }
   ],
   "source": [
    "apple.dtypes"
   ]
  },
  {
   "cell_type": "code",
   "execution_count": 90,
   "id": "e9dd718e",
   "metadata": {},
   "outputs": [
    {
     "data": {
      "text/plain": [
       "0    2\n",
       "1    2\n",
       "2    2\n",
       "3    3\n",
       "4    3\n",
       "5    3\n",
       "6    4\n",
       "7    4\n",
       "8    4\n",
       "Name: date_and_time, dtype: int64"
      ]
     },
     "execution_count": 90,
     "metadata": {},
     "output_type": "execute_result"
    }
   ],
   "source": [
    "apple.date_and_time.dt.month"
   ]
  },
  {
   "cell_type": "markdown",
   "id": "3719f52a",
   "metadata": {},
   "source": [
    "## Accessing datetime attributes (2)"
   ]
  },
  {
   "cell_type": "code",
   "execution_count": 91,
   "id": "d282d79f",
   "metadata": {},
   "outputs": [
    {
     "data": {
      "text/plain": [
       "DatetimeIndex(['2018-02-13 16:00:00', '2018-02-14 16:00:00',\n",
       "               '2018-02-15 16:00:00', '2018-03-13 16:00:00',\n",
       "               '2018-03-14 16:00:00', '2018-03-15 16:00:00',\n",
       "               '2018-04-13 16:00:00', '2018-04-14 16:00:00',\n",
       "               '2018-04-15 16:00:00'],\n",
       "              dtype='datetime64[ns]', name='date_and_time', freq=None)"
      ]
     },
     "execution_count": 91,
     "metadata": {},
     "output_type": "execute_result"
    }
   ],
   "source": [
    "apple.set_index('date_and_time', inplace=True)\n",
    "apple.index"
   ]
  },
  {
   "cell_type": "code",
   "execution_count": 92,
   "id": "d205d0f5",
   "metadata": {},
   "outputs": [
    {
     "data": {
      "text/plain": [
       "171.06111111111113"
      ]
     },
     "execution_count": 92,
     "metadata": {},
     "output_type": "execute_result"
    }
   ],
   "source": [
    "apple.price.mean()"
   ]
  },
  {
   "cell_type": "code",
   "execution_count": 93,
   "id": "1c28cec6",
   "metadata": {},
   "outputs": [
    {
     "data": {
      "text/plain": [
       "date_and_time\n",
       "2    168.233333\n",
       "3    174.283333\n",
       "4    170.666667\n",
       "Name: price, dtype: float64"
      ]
     },
     "execution_count": 93,
     "metadata": {},
     "output_type": "execute_result"
    }
   ],
   "source": [
    "apple.groupby(apple.index.month).price.mean()"
   ]
  },
  {
   "cell_type": "code",
   "execution_count": 94,
   "id": "e0f0582d",
   "metadata": {},
   "outputs": [],
   "source": [
    "monthly_price = apple.groupby(apple.index.month).price.mean()"
   ]
  },
  {
   "cell_type": "code",
   "execution_count": 95,
   "id": "901c9c1c",
   "metadata": {},
   "outputs": [
    {
     "data": {
      "image/png": "[encoded data removed]",
      "text/plain": [
       "<Figure size 432x288 with 1 Axes>"
      ]
     },
     "metadata": {
      "needs_background": "light"
     },
     "output_type": "display_data"
    }
   ],
   "source": [
    "import matplotlib.pyplot as plt\n",
    "monthly_price.plot()\n",
    "\n",
    "# Line plot: Series index on x-axis, Series values on y-axis\n",
    "\n",
    "plt.xlabel('Month')\n",
    "plt.ylabel('Price')\n",
    "plt.title('Monthly mean stock price for Apple')\n",
    "plt.show()"
   ]
  },
  {
   "attachments": {
    "Lineplot.PNG": {
     "image/png": "[encoded data removed]"
    }
   },
   "cell_type": "markdown",
   "id": "9da3ac07",
   "metadata": {},
   "source": [
    "![Lineplot.PNG](attachment:Lineplot.PNG)"
   ]
  },
  {
   "cell_type": "markdown",
   "id": "59cb1668",
   "metadata": {},
   "source": [
    "## Resampling the price"
   ]
  },
  {
   "cell_type": "code",
   "execution_count": 96,
   "id": "e7046bf9",
   "metadata": {},
   "outputs": [
    {
     "data": {
      "text/plain": [
       "date_and_time\n",
       "2    168.233333\n",
       "3    174.283333\n",
       "4    170.666667\n",
       "Name: price, dtype: float64"
      ]
     },
     "execution_count": 96,
     "metadata": {},
     "output_type": "execute_result"
    }
   ],
   "source": [
    "apple.groupby(apple.index.month).price.mean()"
   ]
  },
  {
   "cell_type": "code",
   "execution_count": 97,
   "id": "27e87757",
   "metadata": {},
   "outputs": [
    {
     "data": {
      "text/plain": [
       "date_and_time\n",
       "2018-02-28    168.233333\n",
       "2018-03-31    174.283333\n",
       "2018-04-30    170.666667\n",
       "Freq: M, Name: price, dtype: float64"
      ]
     },
     "execution_count": 97,
     "metadata": {},
     "output_type": "execute_result"
    }
   ],
   "source": [
    "apple.price.resample('M').mean()"
   ]
  },
  {
   "cell_type": "markdown",
   "id": "bd5b069b",
   "metadata": {},
   "source": [
    "## Resampling the volume"
   ]
  },
  {
   "cell_type": "code",
   "execution_count": 98,
   "id": "20198c4a",
   "metadata": {},
   "outputs": [
    {
     "data": {
      "text/html": [
       "<div>\n",
       "<style scoped>\n",
       "    .dataframe tbody tr th:only-of-type {\n",
       "        vertical-align: middle;\n",
       "    }\n",
       "\n",
       "    .dataframe tbody tr th {\n",
       "        vertical-align: top;\n",
       "    }\n",
       "\n",
       "    .dataframe thead th {\n",
       "        text-align: right;\n",
       "    }\n",
       "</style>\n",
       "<table border=\"1\" class=\"dataframe\">\n",
       "  <thead>\n",
       "    <tr style=\"text-align: right;\">\n",
       "      <th></th>\n",
       "      <th>date</th>\n",
       "      <th>time</th>\n",
       "      <th>price</th>\n",
       "      <th>volume</th>\n",
       "      <th>change</th>\n",
       "    </tr>\n",
       "    <tr>\n",
       "      <th>date_and_time</th>\n",
       "      <th></th>\n",
       "      <th></th>\n",
       "      <th></th>\n",
       "      <th></th>\n",
       "      <th></th>\n",
       "    </tr>\n",
       "  </thead>\n",
       "  <tbody>\n",
       "    <tr>\n",
       "      <th>2018-02-13 16:00:00</th>\n",
       "      <td>2/13/2018</td>\n",
       "      <td>16:00</td>\n",
       "      <td>164.34</td>\n",
       "      <td>21075906</td>\n",
       "      <td>up</td>\n",
       "    </tr>\n",
       "    <tr>\n",
       "      <th>2018-02-14 16:00:00</th>\n",
       "      <td>2/14/2018</td>\n",
       "      <td>16:00</td>\n",
       "      <td>167.37</td>\n",
       "      <td>62531550</td>\n",
       "      <td>up</td>\n",
       "    </tr>\n",
       "    <tr>\n",
       "      <th>2018-02-15 16:00:00</th>\n",
       "      <td>2/15/2018</td>\n",
       "      <td>16:00</td>\n",
       "      <td>172.99</td>\n",
       "      <td>27979650</td>\n",
       "      <td>up</td>\n",
       "    </tr>\n",
       "    <tr>\n",
       "      <th>2018-03-13 16:00:00</th>\n",
       "      <td>3/13/2018</td>\n",
       "      <td>16:00</td>\n",
       "      <td>173.45</td>\n",
       "      <td>31095700</td>\n",
       "      <td>up</td>\n",
       "    </tr>\n",
       "    <tr>\n",
       "      <th>2018-03-14 16:00:00</th>\n",
       "      <td>3/14/2018</td>\n",
       "      <td>16:00</td>\n",
       "      <td>174.60</td>\n",
       "      <td>43156892</td>\n",
       "      <td>up</td>\n",
       "    </tr>\n",
       "    <tr>\n",
       "      <th>2018-03-15 16:00:00</th>\n",
       "      <td>3/15/2018</td>\n",
       "      <td>16:00</td>\n",
       "      <td>174.80</td>\n",
       "      <td>33568497</td>\n",
       "      <td>up</td>\n",
       "    </tr>\n",
       "    <tr>\n",
       "      <th>2018-04-13 16:00:00</th>\n",
       "      <td>4/13/2018</td>\n",
       "      <td>16:00</td>\n",
       "      <td>173.50</td>\n",
       "      <td>41365985</td>\n",
       "      <td>down</td>\n",
       "    </tr>\n",
       "    <tr>\n",
       "      <th>2018-04-14 16:00:00</th>\n",
       "      <td>4/14/2018</td>\n",
       "      <td>16:00</td>\n",
       "      <td>173.00</td>\n",
       "      <td>23985674</td>\n",
       "      <td>down</td>\n",
       "    </tr>\n",
       "    <tr>\n",
       "      <th>2018-04-15 16:00:00</th>\n",
       "      <td>4/15/2018</td>\n",
       "      <td>16:00</td>\n",
       "      <td>165.50</td>\n",
       "      <td>58964726</td>\n",
       "      <td>down</td>\n",
       "    </tr>\n",
       "  </tbody>\n",
       "</table>\n",
       "</div>"
      ],
      "text/plain": [
       "                          date   time   price    volume change\n",
       "date_and_time                                                 \n",
       "2018-02-13 16:00:00  2/13/2018  16:00  164.34  21075906     up\n",
       "2018-02-14 16:00:00  2/14/2018  16:00  167.37  62531550     up\n",
       "2018-02-15 16:00:00  2/15/2018  16:00  172.99  27979650     up\n",
       "2018-03-13 16:00:00  3/13/2018  16:00  173.45  31095700     up\n",
       "2018-03-14 16:00:00  3/14/2018  16:00  174.60  43156892     up\n",
       "2018-03-15 16:00:00  3/15/2018  16:00  174.80  33568497     up\n",
       "2018-04-13 16:00:00  4/13/2018  16:00  173.50  41365985   down\n",
       "2018-04-14 16:00:00  4/14/2018  16:00  173.00  23985674   down\n",
       "2018-04-15 16:00:00  4/15/2018  16:00  165.50  58964726   down"
      ]
     },
     "execution_count": 98,
     "metadata": {},
     "output_type": "execute_result"
    }
   ],
   "source": [
    "apple"
   ]
  },
  {
   "cell_type": "code",
   "execution_count": 99,
   "id": "ad11cf78",
   "metadata": {},
   "outputs": [
    {
     "data": {
      "text/plain": [
       "date_and_time\n",
       "2018-02-28    37195702.0\n",
       "2018-03-31    35940363.0\n",
       "2018-04-30    41438795.0\n",
       "Freq: M, Name: volume, dtype: float64"
      ]
     },
     "execution_count": 99,
     "metadata": {},
     "output_type": "execute_result"
    }
   ],
   "source": [
    "apple.volume.resample('M').mean()"
   ]
  },
  {
   "cell_type": "markdown",
   "id": "64b02c03",
   "metadata": {},
   "source": [
    "## Concatenating price and volume"
   ]
  },
  {
   "cell_type": "code",
   "execution_count": 100,
   "id": "acefb43d",
   "metadata": {},
   "outputs": [
    {
     "data": {
      "text/html": [
       "<div>\n",
       "<style scoped>\n",
       "    .dataframe tbody tr th:only-of-type {\n",
       "        vertical-align: middle;\n",
       "    }\n",
       "\n",
       "    .dataframe tbody tr th {\n",
       "        vertical-align: top;\n",
       "    }\n",
       "\n",
       "    .dataframe thead th {\n",
       "        text-align: right;\n",
       "    }\n",
       "</style>\n",
       "<table border=\"1\" class=\"dataframe\">\n",
       "  <thead>\n",
       "    <tr style=\"text-align: right;\">\n",
       "      <th></th>\n",
       "      <th>price</th>\n",
       "      <th>volume</th>\n",
       "    </tr>\n",
       "    <tr>\n",
       "      <th>date_and_time</th>\n",
       "      <th></th>\n",
       "      <th></th>\n",
       "    </tr>\n",
       "  </thead>\n",
       "  <tbody>\n",
       "    <tr>\n",
       "      <th>2018-02-28</th>\n",
       "      <td>168.233333</td>\n",
       "      <td>37195702.0</td>\n",
       "    </tr>\n",
       "    <tr>\n",
       "      <th>2018-03-31</th>\n",
       "      <td>174.283333</td>\n",
       "      <td>35940363.0</td>\n",
       "    </tr>\n",
       "    <tr>\n",
       "      <th>2018-04-30</th>\n",
       "      <td>170.666667</td>\n",
       "      <td>41438795.0</td>\n",
       "    </tr>\n",
       "  </tbody>\n",
       "</table>\n",
       "</div>"
      ],
      "text/plain": [
       "                    price      volume\n",
       "date_and_time                        \n",
       "2018-02-28     168.233333  37195702.0\n",
       "2018-03-31     174.283333  35940363.0\n",
       "2018-04-30     170.666667  41438795.0"
      ]
     },
     "execution_count": 100,
     "metadata": {},
     "output_type": "execute_result"
    }
   ],
   "source": [
    "monthly_price = apple.price.resample('M').mean()\n",
    "monthly_volume = apple.volume.resample('M').mean()\n",
    "\n",
    "pd.concat([monthly_price, monthly_volume], axis='columns')"
   ]
  },
  {
   "cell_type": "code",
   "execution_count": 101,
   "id": "f2b8c198",
   "metadata": {},
   "outputs": [],
   "source": [
    "monthly = pd.concat([monthly_price, monthly_volume],\n",
    "axis='columns')"
   ]
  },
  {
   "cell_type": "code",
   "execution_count": 102,
   "id": "63699c88",
   "metadata": {},
   "outputs": [
    {
     "data": {
      "image/png": "[encoded data removed]",
      "text/plain": [
       "<Figure size 432x288 with 1 Axes>"
      ]
     },
     "metadata": {
      "needs_background": "light"
     },
     "output_type": "display_data"
    }
   ],
   "source": [
    "monthly.plot()\n",
    "plt.show()"
   ]
  },
  {
   "cell_type": "code",
   "execution_count": 103,
   "id": "77a911b7",
   "metadata": {},
   "outputs": [
    {
     "data": {
      "image/png": "[encoded data removed]",
      "text/plain": [
       "<Figure size 432x288 with 2 Axes>"
      ]
     },
     "metadata": {
      "needs_background": "light"
     },
     "output_type": "display_data"
    }
   ],
   "source": [
    "monthly.plot(subplots=True)\n",
    "plt.show()"
   ]
  },
  {
   "cell_type": "markdown",
   "id": "3e767549",
   "metadata": {},
   "source": [
    "### What violations are caught in each district?"
   ]
  },
  {
   "cell_type": "code",
   "execution_count": 104,
   "id": "b89c13d4",
   "metadata": {},
   "outputs": [
    {
     "data": {
      "text/html": [
       "<div>\n",
       "<style scoped>\n",
       "    .dataframe tbody tr th:only-of-type {\n",
       "        vertical-align: middle;\n",
       "    }\n",
       "\n",
       "    .dataframe tbody tr th {\n",
       "        vertical-align: top;\n",
       "    }\n",
       "\n",
       "    .dataframe thead th {\n",
       "        text-align: right;\n",
       "    }\n",
       "</style>\n",
       "<table border=\"1\" class=\"dataframe\">\n",
       "  <thead>\n",
       "    <tr style=\"text-align: right;\">\n",
       "      <th></th>\n",
       "      <th>state</th>\n",
       "      <th>stop_date</th>\n",
       "      <th>stop_time</th>\n",
       "      <th>county_name</th>\n",
       "      <th>driver_gender</th>\n",
       "      <th>driver_race</th>\n",
       "      <th>violation_raw</th>\n",
       "      <th>violation</th>\n",
       "      <th>search_conducted</th>\n",
       "      <th>search_type</th>\n",
       "      <th>stop_outcome</th>\n",
       "      <th>is_arrested</th>\n",
       "      <th>stop_duration</th>\n",
       "      <th>drugs_related_stop</th>\n",
       "      <th>district</th>\n",
       "    </tr>\n",
       "  </thead>\n",
       "  <tbody>\n",
       "    <tr>\n",
       "      <th>0</th>\n",
       "      <td>RI</td>\n",
       "      <td>2005-01-04</td>\n",
       "      <td>12:55</td>\n",
       "      <td>NaN</td>\n",
       "      <td>M</td>\n",
       "      <td>White</td>\n",
       "      <td>Equipment/Inspection Violation</td>\n",
       "      <td>Equipment</td>\n",
       "      <td>False</td>\n",
       "      <td>NaN</td>\n",
       "      <td>Citation</td>\n",
       "      <td>False</td>\n",
       "      <td>0-15 Min</td>\n",
       "      <td>False</td>\n",
       "      <td>Zone X4</td>\n",
       "    </tr>\n",
       "    <tr>\n",
       "      <th>1</th>\n",
       "      <td>RI</td>\n",
       "      <td>2005-01-23</td>\n",
       "      <td>23:15</td>\n",
       "      <td>NaN</td>\n",
       "      <td>M</td>\n",
       "      <td>White</td>\n",
       "      <td>Speeding</td>\n",
       "      <td>Speeding</td>\n",
       "      <td>False</td>\n",
       "      <td>NaN</td>\n",
       "      <td>Citation</td>\n",
       "      <td>False</td>\n",
       "      <td>0-15 Min</td>\n",
       "      <td>False</td>\n",
       "      <td>Zone K3</td>\n",
       "    </tr>\n",
       "    <tr>\n",
       "      <th>2</th>\n",
       "      <td>RI</td>\n",
       "      <td>2005-02-17</td>\n",
       "      <td>04:15</td>\n",
       "      <td>NaN</td>\n",
       "      <td>M</td>\n",
       "      <td>White</td>\n",
       "      <td>Speeding</td>\n",
       "      <td>Speeding</td>\n",
       "      <td>False</td>\n",
       "      <td>NaN</td>\n",
       "      <td>Citation</td>\n",
       "      <td>False</td>\n",
       "      <td>0-15 Min</td>\n",
       "      <td>False</td>\n",
       "      <td>Zone X4</td>\n",
       "    </tr>\n",
       "    <tr>\n",
       "      <th>3</th>\n",
       "      <td>RI</td>\n",
       "      <td>2005-02-20</td>\n",
       "      <td>17:15</td>\n",
       "      <td>NaN</td>\n",
       "      <td>M</td>\n",
       "      <td>White</td>\n",
       "      <td>Call for Service</td>\n",
       "      <td>Other</td>\n",
       "      <td>False</td>\n",
       "      <td>NaN</td>\n",
       "      <td>Arrest Driver</td>\n",
       "      <td>True</td>\n",
       "      <td>16-30 Min</td>\n",
       "      <td>False</td>\n",
       "      <td>Zone X1</td>\n",
       "    </tr>\n",
       "    <tr>\n",
       "      <th>4</th>\n",
       "      <td>RI</td>\n",
       "      <td>2005-02-24</td>\n",
       "      <td>01:20</td>\n",
       "      <td>NaN</td>\n",
       "      <td>F</td>\n",
       "      <td>White</td>\n",
       "      <td>Speeding</td>\n",
       "      <td>Speeding</td>\n",
       "      <td>False</td>\n",
       "      <td>NaN</td>\n",
       "      <td>Citation</td>\n",
       "      <td>False</td>\n",
       "      <td>0-15 Min</td>\n",
       "      <td>False</td>\n",
       "      <td>Zone X3</td>\n",
       "    </tr>\n",
       "  </tbody>\n",
       "</table>\n",
       "</div>"
      ],
      "text/plain": [
       "  state   stop_date stop_time  county_name driver_gender driver_race  \\\n",
       "0    RI  2005-01-04     12:55          NaN             M       White   \n",
       "1    RI  2005-01-23     23:15          NaN             M       White   \n",
       "2    RI  2005-02-17     04:15          NaN             M       White   \n",
       "3    RI  2005-02-20     17:15          NaN             M       White   \n",
       "4    RI  2005-02-24     01:20          NaN             F       White   \n",
       "\n",
       "                    violation_raw  violation  search_conducted search_type  \\\n",
       "0  Equipment/Inspection Violation  Equipment             False         NaN   \n",
       "1                        Speeding   Speeding             False         NaN   \n",
       "2                        Speeding   Speeding             False         NaN   \n",
       "3                Call for Service      Other             False         NaN   \n",
       "4                        Speeding   Speeding             False         NaN   \n",
       "\n",
       "    stop_outcome is_arrested stop_duration  drugs_related_stop district  \n",
       "0       Citation       False      0-15 Min               False  Zone X4  \n",
       "1       Citation       False      0-15 Min               False  Zone K3  \n",
       "2       Citation       False      0-15 Min               False  Zone X4  \n",
       "3  Arrest Driver        True     16-30 Min               False  Zone X1  \n",
       "4       Citation       False      0-15 Min               False  Zone X3  "
      ]
     },
     "execution_count": 104,
     "metadata": {},
     "output_type": "execute_result"
    }
   ],
   "source": [
    "ri = pd.read_csv('./Data/police.csv')\n",
    "ri.head()"
   ]
  },
  {
   "cell_type": "code",
   "execution_count": 105,
   "id": "685ee1ca",
   "metadata": {},
   "outputs": [
    {
     "data": {
      "text/html": [
       "<div>\n",
       "<style scoped>\n",
       "    .dataframe tbody tr th:only-of-type {\n",
       "        vertical-align: middle;\n",
       "    }\n",
       "\n",
       "    .dataframe tbody tr th {\n",
       "        vertical-align: top;\n",
       "    }\n",
       "\n",
       "    .dataframe thead th {\n",
       "        text-align: right;\n",
       "    }\n",
       "</style>\n",
       "<table border=\"1\" class=\"dataframe\">\n",
       "  <thead>\n",
       "    <tr style=\"text-align: right;\">\n",
       "      <th>driver_gender</th>\n",
       "      <th>F</th>\n",
       "      <th>M</th>\n",
       "    </tr>\n",
       "    <tr>\n",
       "      <th>driver_race</th>\n",
       "      <th></th>\n",
       "      <th></th>\n",
       "    </tr>\n",
       "  </thead>\n",
       "  <tbody>\n",
       "    <tr>\n",
       "      <th>Asian</th>\n",
       "      <td>551</td>\n",
       "      <td>1838</td>\n",
       "    </tr>\n",
       "    <tr>\n",
       "      <th>Black</th>\n",
       "      <td>2681</td>\n",
       "      <td>9604</td>\n",
       "    </tr>\n",
       "    <tr>\n",
       "      <th>Hispanic</th>\n",
       "      <td>1953</td>\n",
       "      <td>7774</td>\n",
       "    </tr>\n",
       "    <tr>\n",
       "      <th>Other</th>\n",
       "      <td>53</td>\n",
       "      <td>212</td>\n",
       "    </tr>\n",
       "    <tr>\n",
       "      <th>White</th>\n",
       "      <td>18536</td>\n",
       "      <td>43334</td>\n",
       "    </tr>\n",
       "  </tbody>\n",
       "</table>\n",
       "</div>"
      ],
      "text/plain": [
       "driver_gender      F      M\n",
       "driver_race                \n",
       "Asian            551   1838\n",
       "Black           2681   9604\n",
       "Hispanic        1953   7774\n",
       "Other             53    212\n",
       "White          18536  43334"
      ]
     },
     "execution_count": 105,
     "metadata": {},
     "output_type": "execute_result"
    }
   ],
   "source": [
    "pd.crosstab(ri.driver_race, ri.driver_gender)"
   ]
  },
  {
   "cell_type": "code",
   "execution_count": 106,
   "id": "174335f0",
   "metadata": {},
   "outputs": [
    {
     "data": {
      "text/plain": [
       "(551, 15)"
      ]
     },
     "execution_count": 106,
     "metadata": {},
     "output_type": "execute_result"
    }
   ],
   "source": [
    "ri[(ri.driver_race == 'Asian') & (ri.driver_gender == 'F')].shape"
   ]
  },
  {
   "cell_type": "code",
   "execution_count": 107,
   "id": "f799618a",
   "metadata": {},
   "outputs": [],
   "source": [
    "table = pd.crosstab(ri.driver_race, ri.driver_gender)"
   ]
  },
  {
   "cell_type": "code",
   "execution_count": 108,
   "id": "70ea0953",
   "metadata": {},
   "outputs": [
    {
     "data": {
      "text/html": [
       "<div>\n",
       "<style scoped>\n",
       "    .dataframe tbody tr th:only-of-type {\n",
       "        vertical-align: middle;\n",
       "    }\n",
       "\n",
       "    .dataframe tbody tr th {\n",
       "        vertical-align: top;\n",
       "    }\n",
       "\n",
       "    .dataframe thead th {\n",
       "        text-align: right;\n",
       "    }\n",
       "</style>\n",
       "<table border=\"1\" class=\"dataframe\">\n",
       "  <thead>\n",
       "    <tr style=\"text-align: right;\">\n",
       "      <th>driver_gender</th>\n",
       "      <th>F</th>\n",
       "      <th>M</th>\n",
       "    </tr>\n",
       "    <tr>\n",
       "      <th>driver_race</th>\n",
       "      <th></th>\n",
       "      <th></th>\n",
       "    </tr>\n",
       "  </thead>\n",
       "  <tbody>\n",
       "    <tr>\n",
       "      <th>Asian</th>\n",
       "      <td>551</td>\n",
       "      <td>1838</td>\n",
       "    </tr>\n",
       "    <tr>\n",
       "      <th>Black</th>\n",
       "      <td>2681</td>\n",
       "      <td>9604</td>\n",
       "    </tr>\n",
       "    <tr>\n",
       "      <th>Hispanic</th>\n",
       "      <td>1953</td>\n",
       "      <td>7774</td>\n",
       "    </tr>\n",
       "  </tbody>\n",
       "</table>\n",
       "</div>"
      ],
      "text/plain": [
       "driver_gender     F     M\n",
       "driver_race              \n",
       "Asian           551  1838\n",
       "Black          2681  9604\n",
       "Hispanic       1953  7774"
      ]
     },
     "execution_count": 108,
     "metadata": {},
     "output_type": "execute_result"
    }
   ],
   "source": [
    "table.loc['Asian':'Hispanic']"
   ]
  },
  {
   "cell_type": "code",
   "execution_count": 109,
   "id": "0a16fa76",
   "metadata": {},
   "outputs": [],
   "source": [
    "table = table.loc['Asian':'Hispanic']"
   ]
  },
  {
   "cell_type": "code",
   "execution_count": 110,
   "id": "6cb39963",
   "metadata": {},
   "outputs": [
    {
     "data": {
      "image/png": "[encoded data removed]",
      "text/plain": [
       "<Figure size 432x288 with 1 Axes>"
      ]
     },
     "metadata": {
      "needs_background": "light"
     },
     "output_type": "display_data"
    }
   ],
   "source": [
    "table.plot()\n",
    "plt.show()"
   ]
  },
  {
   "cell_type": "code",
   "execution_count": 111,
   "id": "7230e75c",
   "metadata": {},
   "outputs": [
    {
     "data": {
      "image/png": "[encoded data removed]",
      "text/plain": [
       "<Figure size 432x288 with 1 Axes>"
      ]
     },
     "metadata": {
      "needs_background": "light"
     },
     "output_type": "display_data"
    }
   ],
   "source": [
    "table.plot(kind='bar')\n",
    "plt.show()"
   ]
  },
  {
   "cell_type": "code",
   "execution_count": 112,
   "id": "bba3edfd",
   "metadata": {},
   "outputs": [
    {
     "data": {
      "image/png": "[encoded data removed]",
      "text/plain": [
       "<Figure size 432x288 with 1 Axes>"
      ]
     },
     "metadata": {
      "needs_background": "light"
     },
     "output_type": "display_data"
    }
   ],
   "source": [
    "table.plot(kind='bar', stacked=True)\n",
    "plt.show()"
   ]
  },
  {
   "cell_type": "markdown",
   "id": "56904008",
   "metadata": {},
   "source": [
    "### How long might you be stopped for a violation?"
   ]
  },
  {
   "cell_type": "markdown",
   "id": "4b78f66a",
   "metadata": {},
   "source": [
    "### Analyzing an object column"
   ]
  },
  {
   "cell_type": "code",
   "execution_count": 126,
   "id": "23dc20c6",
   "metadata": {},
   "outputs": [
    {
     "data": {
      "text/html": [
       "<div>\n",
       "<style scoped>\n",
       "    .dataframe tbody tr th:only-of-type {\n",
       "        vertical-align: middle;\n",
       "    }\n",
       "\n",
       "    .dataframe tbody tr th {\n",
       "        vertical-align: top;\n",
       "    }\n",
       "\n",
       "    .dataframe thead th {\n",
       "        text-align: right;\n",
       "    }\n",
       "</style>\n",
       "<table border=\"1\" class=\"dataframe\">\n",
       "  <thead>\n",
       "    <tr style=\"text-align: right;\">\n",
       "      <th></th>\n",
       "      <th>date</th>\n",
       "      <th>time</th>\n",
       "      <th>price</th>\n",
       "      <th>volume</th>\n",
       "      <th>change</th>\n",
       "      <th>is_up</th>\n",
       "    </tr>\n",
       "    <tr>\n",
       "      <th>date_and_time</th>\n",
       "      <th></th>\n",
       "      <th></th>\n",
       "      <th></th>\n",
       "      <th></th>\n",
       "      <th></th>\n",
       "      <th></th>\n",
       "    </tr>\n",
       "  </thead>\n",
       "  <tbody>\n",
       "    <tr>\n",
       "      <th>2018-02-13 16:00:00</th>\n",
       "      <td>2/13/2018</td>\n",
       "      <td>16:00</td>\n",
       "      <td>164.34</td>\n",
       "      <td>21075906</td>\n",
       "      <td>up</td>\n",
       "      <td>True</td>\n",
       "    </tr>\n",
       "    <tr>\n",
       "      <th>2018-02-14 16:00:00</th>\n",
       "      <td>2/14/2018</td>\n",
       "      <td>16:00</td>\n",
       "      <td>167.37</td>\n",
       "      <td>62531550</td>\n",
       "      <td>up</td>\n",
       "      <td>True</td>\n",
       "    </tr>\n",
       "    <tr>\n",
       "      <th>2018-02-15 16:00:00</th>\n",
       "      <td>2/15/2018</td>\n",
       "      <td>16:00</td>\n",
       "      <td>172.99</td>\n",
       "      <td>27979650</td>\n",
       "      <td>up</td>\n",
       "      <td>True</td>\n",
       "    </tr>\n",
       "    <tr>\n",
       "      <th>2018-03-13 16:00:00</th>\n",
       "      <td>3/13/2018</td>\n",
       "      <td>16:00</td>\n",
       "      <td>173.45</td>\n",
       "      <td>31095700</td>\n",
       "      <td>up</td>\n",
       "      <td>True</td>\n",
       "    </tr>\n",
       "    <tr>\n",
       "      <th>2018-03-14 16:00:00</th>\n",
       "      <td>3/14/2018</td>\n",
       "      <td>16:00</td>\n",
       "      <td>174.60</td>\n",
       "      <td>43156892</td>\n",
       "      <td>up</td>\n",
       "      <td>True</td>\n",
       "    </tr>\n",
       "  </tbody>\n",
       "</table>\n",
       "</div>"
      ],
      "text/plain": [
       "                          date   time   price    volume change  is_up\n",
       "date_and_time                                                        \n",
       "2018-02-13 16:00:00  2/13/2018  16:00  164.34  21075906     up   True\n",
       "2018-02-14 16:00:00  2/14/2018  16:00  167.37  62531550     up   True\n",
       "2018-02-15 16:00:00  2/15/2018  16:00  172.99  27979650     up   True\n",
       "2018-03-13 16:00:00  3/13/2018  16:00  173.45  31095700     up   True\n",
       "2018-03-14 16:00:00  3/14/2018  16:00  174.60  43156892     up   True"
      ]
     },
     "execution_count": 126,
     "metadata": {},
     "output_type": "execute_result"
    }
   ],
   "source": [
    "apple.head()"
   ]
  },
  {
   "cell_type": "code",
   "execution_count": 114,
   "id": "8f4d0a5f",
   "metadata": {},
   "outputs": [
    {
     "data": {
      "text/plain": [
       "dtype('O')"
      ]
     },
     "execution_count": 114,
     "metadata": {},
     "output_type": "execute_result"
    }
   ],
   "source": [
    "apple.change.dtype"
   ]
  },
  {
   "attachments": {
    "can't%20use%20astype.PNG": {
     "image/png": "[encoded data removed]"
    }
   },
   "cell_type": "markdown",
   "id": "4ed2cded",
   "metadata": {},
   "source": [
    "![can't%20use%20astype.PNG](attachment:can't%20use%20astype.PNG)"
   ]
  },
  {
   "cell_type": "code",
   "execution_count": 117,
   "id": "f82a038a",
   "metadata": {},
   "outputs": [
    {
     "data": {
      "text/html": [
       "<div>\n",
       "<style scoped>\n",
       "    .dataframe tbody tr th:only-of-type {\n",
       "        vertical-align: middle;\n",
       "    }\n",
       "\n",
       "    .dataframe tbody tr th {\n",
       "        vertical-align: top;\n",
       "    }\n",
       "\n",
       "    .dataframe thead th {\n",
       "        text-align: right;\n",
       "    }\n",
       "</style>\n",
       "<table border=\"1\" class=\"dataframe\">\n",
       "  <thead>\n",
       "    <tr style=\"text-align: right;\">\n",
       "      <th></th>\n",
       "      <th>date</th>\n",
       "      <th>time</th>\n",
       "      <th>price</th>\n",
       "      <th>volume</th>\n",
       "      <th>change</th>\n",
       "      <th>is_up</th>\n",
       "    </tr>\n",
       "    <tr>\n",
       "      <th>date_and_time</th>\n",
       "      <th></th>\n",
       "      <th></th>\n",
       "      <th></th>\n",
       "      <th></th>\n",
       "      <th></th>\n",
       "      <th></th>\n",
       "    </tr>\n",
       "  </thead>\n",
       "  <tbody>\n",
       "    <tr>\n",
       "      <th>2018-02-13 16:00:00</th>\n",
       "      <td>2/13/2018</td>\n",
       "      <td>16:00</td>\n",
       "      <td>164.34</td>\n",
       "      <td>21075906</td>\n",
       "      <td>up</td>\n",
       "      <td>True</td>\n",
       "    </tr>\n",
       "    <tr>\n",
       "      <th>2018-02-14 16:00:00</th>\n",
       "      <td>2/14/2018</td>\n",
       "      <td>16:00</td>\n",
       "      <td>167.37</td>\n",
       "      <td>62531550</td>\n",
       "      <td>up</td>\n",
       "      <td>True</td>\n",
       "    </tr>\n",
       "    <tr>\n",
       "      <th>2018-02-15 16:00:00</th>\n",
       "      <td>2/15/2018</td>\n",
       "      <td>16:00</td>\n",
       "      <td>172.99</td>\n",
       "      <td>27979650</td>\n",
       "      <td>up</td>\n",
       "      <td>True</td>\n",
       "    </tr>\n",
       "    <tr>\n",
       "      <th>2018-03-13 16:00:00</th>\n",
       "      <td>3/13/2018</td>\n",
       "      <td>16:00</td>\n",
       "      <td>173.45</td>\n",
       "      <td>31095700</td>\n",
       "      <td>up</td>\n",
       "      <td>True</td>\n",
       "    </tr>\n",
       "    <tr>\n",
       "      <th>2018-03-14 16:00:00</th>\n",
       "      <td>3/14/2018</td>\n",
       "      <td>16:00</td>\n",
       "      <td>174.60</td>\n",
       "      <td>43156892</td>\n",
       "      <td>up</td>\n",
       "      <td>True</td>\n",
       "    </tr>\n",
       "  </tbody>\n",
       "</table>\n",
       "</div>"
      ],
      "text/plain": [
       "                          date   time   price    volume change  is_up\n",
       "date_and_time                                                        \n",
       "2018-02-13 16:00:00  2/13/2018  16:00  164.34  21075906     up   True\n",
       "2018-02-14 16:00:00  2/14/2018  16:00  167.37  62531550     up   True\n",
       "2018-02-15 16:00:00  2/15/2018  16:00  172.99  27979650     up   True\n",
       "2018-03-13 16:00:00  3/13/2018  16:00  173.45  31095700     up   True\n",
       "2018-03-14 16:00:00  3/14/2018  16:00  174.60  43156892     up   True"
      ]
     },
     "execution_count": 117,
     "metadata": {},
     "output_type": "execute_result"
    }
   ],
   "source": [
    "mapping = {'up':True, 'down':False}\n",
    "apple['is_up'] = apple.change.map(mapping)\n",
    "apple.head()"
   ]
  },
  {
   "cell_type": "code",
   "execution_count": 116,
   "id": "9f1561ce",
   "metadata": {},
   "outputs": [
    {
     "data": {
      "text/plain": [
       "0.6666666666666666"
      ]
     },
     "execution_count": 116,
     "metadata": {},
     "output_type": "execute_result"
    }
   ],
   "source": [
    "apple.is_up.mean()"
   ]
  },
  {
   "cell_type": "code",
   "execution_count": 120,
   "id": "b8172213",
   "metadata": {},
   "outputs": [
    {
     "data": {
      "text/plain": [
       "violation\n",
       "Equipment              0.064274\n",
       "Moving violation       0.057014\n",
       "Other                  0.045351\n",
       "Registration/plates    0.093438\n",
       "Seat belt              0.031513\n",
       "Speeding               0.021560\n",
       "Name: search_conducted, dtype: float64"
      ]
     },
     "execution_count": 120,
     "metadata": {},
     "output_type": "execute_result"
    }
   ],
   "source": [
    "ri.groupby('violation').search_conducted.mean()"
   ]
  },
  {
   "cell_type": "code",
   "execution_count": 121,
   "id": "7c55cf54",
   "metadata": {},
   "outputs": [],
   "source": [
    "search_rate = ri.groupby('violation').search_conducted.mean()"
   ]
  },
  {
   "cell_type": "code",
   "execution_count": 122,
   "id": "43f157a4",
   "metadata": {},
   "outputs": [
    {
     "data": {
      "image/png": "[encoded data removed]",
      "text/plain": [
       "<Figure size 432x288 with 1 Axes>"
      ]
     },
     "metadata": {
      "needs_background": "light"
     },
     "output_type": "display_data"
    }
   ],
   "source": [
    "search_rate.plot(kind='bar')\n",
    "plt.show()"
   ]
  },
  {
   "cell_type": "code",
   "execution_count": 123,
   "id": "ef49abe3",
   "metadata": {},
   "outputs": [
    {
     "data": {
      "text/plain": [
       "violation\n",
       "Speeding               0.021560\n",
       "Seat belt              0.031513\n",
       "Other                  0.045351\n",
       "Moving violation       0.057014\n",
       "Equipment              0.064274\n",
       "Registration/plates    0.093438\n",
       "Name: search_conducted, dtype: float64"
      ]
     },
     "execution_count": 123,
     "metadata": {},
     "output_type": "execute_result"
    }
   ],
   "source": [
    "search_rate.sort_values()"
   ]
  },
  {
   "cell_type": "code",
   "execution_count": 124,
   "id": "a3a1c4b7",
   "metadata": {},
   "outputs": [
    {
     "data": {
      "image/png": "[encoded data removed]",
      "text/plain": [
       "<Figure size 432x288 with 1 Axes>"
      ]
     },
     "metadata": {
      "needs_background": "light"
     },
     "output_type": "display_data"
    }
   ],
   "source": [
    "search_rate.sort_values().plot(kind='bar')\n",
    "plt.show()"
   ]
  },
  {
   "cell_type": "code",
   "execution_count": 125,
   "id": "fb76567d",
   "metadata": {},
   "outputs": [
    {
     "data": {
      "image/png": "[encoded data removed]",
      "text/plain": [
       "<Figure size 432x288 with 1 Axes>"
      ]
     },
     "metadata": {
      "needs_background": "light"
     },
     "output_type": "display_data"
    }
   ],
   "source": [
    "search_rate.sort_values().plot(kind='barh')\n",
    "plt.show()"
   ]
  },
  {
   "cell_type": "code",
   "execution_count": null,
   "id": "1c57ea0d",
   "metadata": {},
   "outputs": [],
   "source": []
  },
  {
   "cell_type": "code",
   "execution_count": null,
   "id": "ddaede92",
   "metadata": {},
   "outputs": [],
   "source": []
  }
 ],
 "metadata": {
  "kernelspec": {
   "display_name": "Python 3 (ipykernel)",
   "language": "python",
   "name": "python3"
  },
  "language_info": {
   "codemirror_mode": {
    "name": "ipython",
    "version": 3
   },
   "file_extension": ".py",
   "mimetype": "text/x-python",
   "name": "python",
   "nbconvert_exporter": "python",
   "pygments_lexer": "ipython3",
   "version": "3.9.7"
  }
 },
 "nbformat": 4,
 "nbformat_minor": 5
}
