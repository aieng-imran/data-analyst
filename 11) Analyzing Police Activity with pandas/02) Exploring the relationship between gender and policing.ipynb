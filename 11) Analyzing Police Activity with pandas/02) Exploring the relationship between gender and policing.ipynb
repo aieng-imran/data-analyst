{
 "cells": [
  {
   "cell_type": "markdown",
   "id": "901e5e3c",
   "metadata": {},
   "source": [
    "# Exploring the relationship between gender and policing\n",
    "\n",
    "Does the gender of a driver have an impact on police behavior during \n",
    "a traffic stop? In this chapter, you will explore that question while\n",
    "practicing __filtering, grouping, method chaining, Boolean math, string\n",
    "methods, and more!__"
   ]
  },
  {
   "cell_type": "markdown",
   "id": "b730b6df",
   "metadata": {},
   "source": [
    "# Things Covered:\n",
    "\n",
    "1) Counting unique values/ Normalizing values\n",
    "\n",
    "2) Filtering DataFrame rows\n",
    "\n",
    "3) Comparing stop outcomes for two groups\n",
    "\n",
    "4) Filtering by multiple conditions\n",
    "\n",
    "5) Math with Boolean values\n",
    "\n",
    "6) Comparing groups using groupby\n",
    "\n",
    "7) Grouping by multiple categories\n",
    "\n",
    "8) Searching for a string"
   ]
  },
  {
   "cell_type": "code",
   "execution_count": 1,
   "id": "1786cd05",
   "metadata": {},
   "outputs": [
    {
     "data": {
      "text/html": [
       "<div>\n",
       "<style scoped>\n",
       "    .dataframe tbody tr th:only-of-type {\n",
       "        vertical-align: middle;\n",
       "    }\n",
       "\n",
       "    .dataframe tbody tr th {\n",
       "        vertical-align: top;\n",
       "    }\n",
       "\n",
       "    .dataframe thead th {\n",
       "        text-align: right;\n",
       "    }\n",
       "</style>\n",
       "<table border=\"1\" class=\"dataframe\">\n",
       "  <thead>\n",
       "    <tr style=\"text-align: right;\">\n",
       "      <th></th>\n",
       "      <th>state</th>\n",
       "      <th>stop_date</th>\n",
       "      <th>stop_time</th>\n",
       "      <th>county_name</th>\n",
       "      <th>driver_gender</th>\n",
       "      <th>driver_race</th>\n",
       "      <th>violation_raw</th>\n",
       "      <th>violation</th>\n",
       "      <th>search_conducted</th>\n",
       "      <th>search_type</th>\n",
       "      <th>stop_outcome</th>\n",
       "      <th>is_arrested</th>\n",
       "      <th>stop_duration</th>\n",
       "      <th>drugs_related_stop</th>\n",
       "      <th>district</th>\n",
       "    </tr>\n",
       "  </thead>\n",
       "  <tbody>\n",
       "    <tr>\n",
       "      <th>0</th>\n",
       "      <td>RI</td>\n",
       "      <td>2005-01-04</td>\n",
       "      <td>12:55</td>\n",
       "      <td>NaN</td>\n",
       "      <td>M</td>\n",
       "      <td>White</td>\n",
       "      <td>Equipment/Inspection Violation</td>\n",
       "      <td>Equipment</td>\n",
       "      <td>False</td>\n",
       "      <td>NaN</td>\n",
       "      <td>Citation</td>\n",
       "      <td>False</td>\n",
       "      <td>0-15 Min</td>\n",
       "      <td>False</td>\n",
       "      <td>Zone X4</td>\n",
       "    </tr>\n",
       "    <tr>\n",
       "      <th>1</th>\n",
       "      <td>RI</td>\n",
       "      <td>2005-01-23</td>\n",
       "      <td>23:15</td>\n",
       "      <td>NaN</td>\n",
       "      <td>M</td>\n",
       "      <td>White</td>\n",
       "      <td>Speeding</td>\n",
       "      <td>Speeding</td>\n",
       "      <td>False</td>\n",
       "      <td>NaN</td>\n",
       "      <td>Citation</td>\n",
       "      <td>False</td>\n",
       "      <td>0-15 Min</td>\n",
       "      <td>False</td>\n",
       "      <td>Zone K3</td>\n",
       "    </tr>\n",
       "    <tr>\n",
       "      <th>2</th>\n",
       "      <td>RI</td>\n",
       "      <td>2005-02-17</td>\n",
       "      <td>04:15</td>\n",
       "      <td>NaN</td>\n",
       "      <td>M</td>\n",
       "      <td>White</td>\n",
       "      <td>Speeding</td>\n",
       "      <td>Speeding</td>\n",
       "      <td>False</td>\n",
       "      <td>NaN</td>\n",
       "      <td>Citation</td>\n",
       "      <td>False</td>\n",
       "      <td>0-15 Min</td>\n",
       "      <td>False</td>\n",
       "      <td>Zone X4</td>\n",
       "    </tr>\n",
       "  </tbody>\n",
       "</table>\n",
       "</div>"
      ],
      "text/plain": [
       "  state   stop_date stop_time  county_name driver_gender driver_race  \\\n",
       "0    RI  2005-01-04     12:55          NaN             M       White   \n",
       "1    RI  2005-01-23     23:15          NaN             M       White   \n",
       "2    RI  2005-02-17     04:15          NaN             M       White   \n",
       "\n",
       "                    violation_raw  violation  search_conducted search_type  \\\n",
       "0  Equipment/Inspection Violation  Equipment             False         NaN   \n",
       "1                        Speeding   Speeding             False         NaN   \n",
       "2                        Speeding   Speeding             False         NaN   \n",
       "\n",
       "  stop_outcome is_arrested stop_duration  drugs_related_stop district  \n",
       "0     Citation       False      0-15 Min               False  Zone X4  \n",
       "1     Citation       False      0-15 Min               False  Zone K3  \n",
       "2     Citation       False      0-15 Min               False  Zone X4  "
      ]
     },
     "execution_count": 1,
     "metadata": {},
     "output_type": "execute_result"
    }
   ],
   "source": [
    "import pandas as pd\n",
    "ri = pd.read_csv('./Data/police.csv')\n",
    "ri.head(3)"
   ]
  },
  {
   "cell_type": "markdown",
   "id": "12240a9c",
   "metadata": {},
   "source": [
    "### 1) Counting unique values (1)"
   ]
  },
  {
   "cell_type": "code",
   "execution_count": 2,
   "id": "17c161d8",
   "metadata": {},
   "outputs": [
    {
     "data": {
      "text/plain": [
       "Citation            77092\n",
       "Warning              5137\n",
       "Arrest Driver        2735\n",
       "No Action             625\n",
       "N/D                   607\n",
       "Arrest Passenger      343\n",
       "Name: stop_outcome, dtype: int64"
      ]
     },
     "execution_count": 2,
     "metadata": {},
     "output_type": "execute_result"
    }
   ],
   "source": [
    "ri.stop_outcome.value_counts()"
   ]
  },
  {
   "cell_type": "markdown",
   "id": "26423323",
   "metadata": {},
   "source": [
    "### Counting unique values (2)"
   ]
  },
  {
   "cell_type": "code",
   "execution_count": 5,
   "id": "a3a38f2d",
   "metadata": {},
   "outputs": [
    {
     "data": {
      "text/plain": [
       "86539"
      ]
     },
     "execution_count": 5,
     "metadata": {},
     "output_type": "execute_result"
    }
   ],
   "source": [
    "ri.stop_outcome.value_counts().sum()"
   ]
  },
  {
   "cell_type": "code",
   "execution_count": 6,
   "id": "97686fcc",
   "metadata": {},
   "outputs": [
    {
     "data": {
      "text/plain": [
       "(91741, 15)"
      ]
     },
     "execution_count": 6,
     "metadata": {},
     "output_type": "execute_result"
    }
   ],
   "source": [
    "ri.shape"
   ]
  },
  {
   "cell_type": "markdown",
   "id": "fca227ac",
   "metadata": {},
   "source": [
    "### Expressing counts as proportions"
   ]
  },
  {
   "cell_type": "code",
   "execution_count": 7,
   "id": "3c493665",
   "metadata": {},
   "outputs": [
    {
     "data": {
      "text/plain": [
       "Citation            0.890835\n",
       "Warning             0.059361\n",
       "Arrest Driver       0.031604\n",
       "No Action           0.007222\n",
       "N/D                 0.007014\n",
       "Arrest Passenger    0.003964\n",
       "Name: stop_outcome, dtype: float64"
      ]
     },
     "execution_count": 7,
     "metadata": {},
     "output_type": "execute_result"
    }
   ],
   "source": [
    "ri.stop_outcome.value_counts(normalize=True)"
   ]
  },
  {
   "cell_type": "markdown",
   "id": "fad61655",
   "metadata": {},
   "source": [
    "### 2) Filtering DataFrame rows"
   ]
  },
  {
   "cell_type": "code",
   "execution_count": 8,
   "id": "9186d7fd",
   "metadata": {},
   "outputs": [
    {
     "data": {
      "text/plain": [
       "White       61872\n",
       "Black       12285\n",
       "Hispanic     9727\n",
       "Asian        2390\n",
       "Other         265\n",
       "Name: driver_race, dtype: int64"
      ]
     },
     "execution_count": 8,
     "metadata": {},
     "output_type": "execute_result"
    }
   ],
   "source": [
    "ri.driver_race.value_counts()"
   ]
  },
  {
   "cell_type": "code",
   "execution_count": 9,
   "id": "cd4ccf6f",
   "metadata": {},
   "outputs": [
    {
     "data": {
      "text/plain": [
       "(61872, 15)"
      ]
     },
     "execution_count": 9,
     "metadata": {},
     "output_type": "execute_result"
    }
   ],
   "source": [
    "white = ri[ri.driver_race == 'White']\n",
    "white.shape"
   ]
  },
  {
   "cell_type": "markdown",
   "id": "65e5acc0",
   "metadata": {},
   "source": [
    "### 3) Comparing stop outcomes for two groups"
   ]
  },
  {
   "cell_type": "code",
   "execution_count": 10,
   "id": "850e4ed6",
   "metadata": {},
   "outputs": [
    {
     "data": {
      "text/plain": [
       "Citation            0.902234\n",
       "Warning             0.057522\n",
       "Arrest Driver       0.024017\n",
       "No Action           0.007047\n",
       "N/D                 0.006433\n",
       "Arrest Passenger    0.002748\n",
       "Name: stop_outcome, dtype: float64"
      ]
     },
     "execution_count": 10,
     "metadata": {},
     "output_type": "execute_result"
    }
   ],
   "source": [
    "white.stop_outcome.value_counts(normalize=True)"
   ]
  },
  {
   "cell_type": "code",
   "execution_count": 11,
   "id": "9266382f",
   "metadata": {},
   "outputs": [
    {
     "data": {
      "text/plain": [
       "Citation            0.923013\n",
       "Warning             0.045188\n",
       "Arrest Driver       0.017573\n",
       "No Action           0.008368\n",
       "N/D                 0.004184\n",
       "Arrest Passenger    0.001674\n",
       "Name: stop_outcome, dtype: float64"
      ]
     },
     "execution_count": 11,
     "metadata": {},
     "output_type": "execute_result"
    }
   ],
   "source": [
    "asian = ri[ri.driver_race == 'Asian']\n",
    "asian.stop_outcome.value_counts(normalize=True)"
   ]
  },
  {
   "cell_type": "markdown",
   "id": "4ac75f3e",
   "metadata": {},
   "source": [
    "## Does gender affect who gets a ticket for speeding?"
   ]
  },
  {
   "cell_type": "markdown",
   "id": "378e482f",
   "metadata": {},
   "source": [
    "### 4) Filtering by multiple conditions (1)"
   ]
  },
  {
   "cell_type": "code",
   "execution_count": 12,
   "id": "ca4df212",
   "metadata": {},
   "outputs": [
    {
     "data": {
      "text/plain": [
       "(23774, 15)"
      ]
     },
     "execution_count": 12,
     "metadata": {},
     "output_type": "execute_result"
    }
   ],
   "source": [
    "female = ri[ri.driver_gender == 'F']\n",
    "female.shape"
   ]
  },
  {
   "cell_type": "markdown",
   "id": "854763c9",
   "metadata": {},
   "source": [
    "### Filtering by multiple conditions (2)"
   ]
  },
  {
   "cell_type": "code",
   "execution_count": 13,
   "id": "0b15b7d8",
   "metadata": {},
   "outputs": [],
   "source": [
    "female_and_arrested = ri[(ri.driver_gender == 'F') &\n",
    "(ri.is_arrested == True)]"
   ]
  },
  {
   "cell_type": "code",
   "execution_count": 14,
   "id": "4f973749",
   "metadata": {},
   "outputs": [
    {
     "data": {
      "text/plain": [
       "(669, 15)"
      ]
     },
     "execution_count": 14,
     "metadata": {},
     "output_type": "execute_result"
    }
   ],
   "source": [
    "female_and_arrested.shape"
   ]
  },
  {
   "cell_type": "markdown",
   "id": "388b13a4",
   "metadata": {},
   "source": [
    "### Filtering by multiple conditions (3)"
   ]
  },
  {
   "cell_type": "code",
   "execution_count": 15,
   "id": "6f13b047",
   "metadata": {},
   "outputs": [],
   "source": [
    "female_or_arrested = ri[(ri.driver_gender == 'F') |\n",
    "(ri.is_arrested == True)]"
   ]
  },
  {
   "cell_type": "code",
   "execution_count": 16,
   "id": "867f7445",
   "metadata": {},
   "outputs": [
    {
     "data": {
      "text/plain": [
       "(26183, 15)"
      ]
     },
     "execution_count": 16,
     "metadata": {},
     "output_type": "execute_result"
    }
   ],
   "source": [
    "female_or_arrested.shape"
   ]
  },
  {
   "attachments": {
    "Multiple%20conditions.PNG": {
     "image/png": "[encoded data removed]"
    }
   },
   "cell_type": "markdown",
   "id": "a14aa9d6",
   "metadata": {},
   "source": [
    "![Multiple%20conditions.PNG](attachment:Multiple%20conditions.PNG)"
   ]
  },
  {
   "attachments": {
    "Correlation%20NOT%20Causation.PNG": {
     "image/png": "[encoded data removed]"
    }
   },
   "cell_type": "markdown",
   "id": "98486e79",
   "metadata": {},
   "source": [
    "![Correlation%20NOT%20Causation.PNG](attachment:Correlation%20NOT%20Causation.PNG)"
   ]
  },
  {
   "cell_type": "markdown",
   "id": "08da557e",
   "metadata": {},
   "source": [
    "## Does gender affect whose vehicle is searched?"
   ]
  },
  {
   "cell_type": "markdown",
   "id": "449bff19",
   "metadata": {},
   "source": [
    "### 5) Math with Boolean values"
   ]
  },
  {
   "cell_type": "code",
   "execution_count": 18,
   "id": "a4072e34",
   "metadata": {},
   "outputs": [
    {
     "data": {
      "text/plain": [
       "state                0\n",
       "stop_date            0\n",
       "stop_time            0\n",
       "county_name      91741\n",
       "driver_gender     5205\n",
       "dtype: int64"
      ]
     },
     "execution_count": 18,
     "metadata": {},
     "output_type": "execute_result"
    }
   ],
   "source": [
    "ri.isnull().sum().head()"
   ]
  },
  {
   "cell_type": "code",
   "execution_count": 19,
   "id": "389d7b98",
   "metadata": {},
   "outputs": [
    {
     "data": {
      "text/plain": [
       "0.25"
      ]
     },
     "execution_count": 19,
     "metadata": {},
     "output_type": "execute_result"
    }
   ],
   "source": [
    "import numpy as np\n",
    "np.mean([0, 1, 0, 0])"
   ]
  },
  {
   "cell_type": "code",
   "execution_count": 22,
   "id": "1b6c1ace",
   "metadata": {},
   "outputs": [
    {
     "data": {
      "text/plain": [
       "0.25"
      ]
     },
     "execution_count": 22,
     "metadata": {},
     "output_type": "execute_result"
    }
   ],
   "source": [
    "np.mean([False, True, False, False])\n",
    "\n",
    "# Note: Mean of Boolean Series represents percentage of True values"
   ]
  },
  {
   "cell_type": "markdown",
   "id": "968e5829",
   "metadata": {},
   "source": [
    "### Taking the mean of a Boolean Series"
   ]
  },
  {
   "cell_type": "code",
   "execution_count": 23,
   "id": "0e3e74eb",
   "metadata": {},
   "outputs": [
    {
     "data": {
      "text/plain": [
       "False    0.964432\n",
       "True     0.035568\n",
       "Name: is_arrested, dtype: float64"
      ]
     },
     "execution_count": 23,
     "metadata": {},
     "output_type": "execute_result"
    }
   ],
   "source": [
    "ri.is_arrested.value_counts(normalize=True)"
   ]
  },
  {
   "cell_type": "code",
   "execution_count": 24,
   "id": "0286fb69",
   "metadata": {},
   "outputs": [
    {
     "data": {
      "text/plain": [
       "dtype('O')"
      ]
     },
     "execution_count": 24,
     "metadata": {},
     "output_type": "execute_result"
    }
   ],
   "source": [
    "ri.is_arrested.dtype"
   ]
  },
  {
   "cell_type": "markdown",
   "id": "5c614721",
   "metadata": {},
   "source": [
    "### 6) Comparing groups using groupby (1)"
   ]
  },
  {
   "cell_type": "code",
   "execution_count": 25,
   "id": "fc0a51b4",
   "metadata": {},
   "outputs": [
    {
     "data": {
      "text/plain": [
       "array(['Zone X4', 'Zone K3', 'Zone X1', 'Zone X3', 'Zone K1', 'Zone K2'],\n",
       "      dtype=object)"
      ]
     },
     "execution_count": 25,
     "metadata": {},
     "output_type": "execute_result"
    }
   ],
   "source": [
    "ri.district.unique()"
   ]
  },
  {
   "cell_type": "code",
   "execution_count": 26,
   "id": "c298c39b",
   "metadata": {},
   "outputs": [
    {
     "data": {
      "text/plain": [
       "0.024346149210558034"
      ]
     },
     "execution_count": 26,
     "metadata": {},
     "output_type": "execute_result"
    }
   ],
   "source": [
    "ri[ri.district == 'Zone K1'].is_arrested.mean()"
   ]
  },
  {
   "cell_type": "markdown",
   "id": "455ff59d",
   "metadata": {},
   "source": [
    "### Comparing groups using groupby (2)"
   ]
  },
  {
   "cell_type": "code",
   "execution_count": 27,
   "id": "2d6cd627",
   "metadata": {},
   "outputs": [
    {
     "data": {
      "text/plain": [
       "0.030800588834786546"
      ]
     },
     "execution_count": 27,
     "metadata": {},
     "output_type": "execute_result"
    }
   ],
   "source": [
    "ri[ri.district == 'Zone K2'].is_arrested.mean()"
   ]
  },
  {
   "cell_type": "code",
   "execution_count": 28,
   "id": "a4120feb",
   "metadata": {},
   "outputs": [
    {
     "data": {
      "text/plain": [
       "district\n",
       "Zone K1    0.024346\n",
       "Zone K2    0.030801\n",
       "Zone K3    0.032308\n",
       "Zone X1    0.023494\n",
       "Zone X3    0.034871\n",
       "Zone X4    0.048038\n",
       "Name: is_arrested, dtype: float64"
      ]
     },
     "execution_count": 28,
     "metadata": {},
     "output_type": "execute_result"
    }
   ],
   "source": [
    "ri.groupby('district').is_arrested.mean()"
   ]
  },
  {
   "cell_type": "markdown",
   "id": "94d44289",
   "metadata": {},
   "source": [
    "### 7) Grouping by multiple categories"
   ]
  },
  {
   "cell_type": "code",
   "execution_count": 30,
   "id": "eb248c1b",
   "metadata": {},
   "outputs": [
    {
     "data": {
      "text/plain": [
       "district  driver_gender\n",
       "Zone K1   F                0.019169\n",
       "          M                0.026588\n",
       "Zone K2   F                0.022196\n",
       "          M                0.034285\n",
       "Zone K3   F                0.025156\n",
       "Name: is_arrested, dtype: float64"
      ]
     },
     "execution_count": 30,
     "metadata": {},
     "output_type": "execute_result"
    }
   ],
   "source": [
    "ri.groupby(['district', 'driver_gender']).is_arrested.mean().head()"
   ]
  },
  {
   "cell_type": "markdown",
   "id": "8b6f6bb4",
   "metadata": {},
   "source": [
    "## Does gender affect who is frisked during a search?"
   ]
  },
  {
   "cell_type": "code",
   "execution_count": 31,
   "id": "ca3d4e40",
   "metadata": {},
   "outputs": [
    {
     "data": {
      "text/plain": [
       "False    88434\n",
       "True      3307\n",
       "Name: search_conducted, dtype: int64"
      ]
     },
     "execution_count": 31,
     "metadata": {},
     "output_type": "execute_result"
    }
   ],
   "source": [
    "ri.search_conducted.value_counts()"
   ]
  },
  {
   "cell_type": "code",
   "execution_count": 33,
   "id": "dc7c201c",
   "metadata": {},
   "outputs": [
    {
     "data": {
      "text/plain": [
       "NaN                     88434\n",
       "Incident to Arrest       1290\n",
       "Probable Cause            924\n",
       "Inventory                 219\n",
       "Reasonable Suspicion      214\n",
       "Name: search_type, dtype: int64"
      ]
     },
     "execution_count": 33,
     "metadata": {},
     "output_type": "execute_result"
    }
   ],
   "source": [
    "ri.search_type.value_counts(dropna=False).head()"
   ]
  },
  {
   "cell_type": "markdown",
   "id": "c6e2c2d3",
   "metadata": {},
   "source": [
    "### Examining the search types"
   ]
  },
  {
   "cell_type": "code",
   "execution_count": 35,
   "id": "e01fce19",
   "metadata": {},
   "outputs": [
    {
     "data": {
      "text/plain": [
       "Incident to Arrest      1290\n",
       "Probable Cause           924\n",
       "Inventory                219\n",
       "Reasonable Suspicion     214\n",
       "Protective Frisk         164\n",
       "Name: search_type, dtype: int64"
      ]
     },
     "execution_count": 35,
     "metadata": {},
     "output_type": "execute_result"
    }
   ],
   "source": [
    "ri.search_type.value_counts().head()"
   ]
  },
  {
   "cell_type": "markdown",
   "id": "ba466ee7",
   "metadata": {},
   "source": [
    "### Searching for a string (1)"
   ]
  },
  {
   "cell_type": "code",
   "execution_count": 36,
   "id": "1d5f7311",
   "metadata": {},
   "outputs": [],
   "source": [
    "ri['inventory'] = ri.search_type.str.contains('Inventory', na=False)"
   ]
  },
  {
   "cell_type": "markdown",
   "id": "e8e67519",
   "metadata": {},
   "source": [
    "### Searching for a string (2)"
   ]
  },
  {
   "cell_type": "code",
   "execution_count": 37,
   "id": "ef05a1cc",
   "metadata": {},
   "outputs": [
    {
     "data": {
      "text/plain": [
       "dtype('bool')"
      ]
     },
     "execution_count": 37,
     "metadata": {},
     "output_type": "execute_result"
    }
   ],
   "source": [
    "ri.inventory.dtype"
   ]
  },
  {
   "cell_type": "code",
   "execution_count": 38,
   "id": "727949e2",
   "metadata": {},
   "outputs": [
    {
     "data": {
      "text/plain": [
       "441"
      ]
     },
     "execution_count": 38,
     "metadata": {},
     "output_type": "execute_result"
    }
   ],
   "source": [
    "ri.inventory.sum()"
   ]
  },
  {
   "cell_type": "markdown",
   "id": "8daef79c",
   "metadata": {},
   "source": [
    "### 8) Calculating the inventory rate"
   ]
  },
  {
   "cell_type": "code",
   "execution_count": 39,
   "id": "a70ae169",
   "metadata": {},
   "outputs": [
    {
     "data": {
      "text/plain": [
       "0.0048070110419550695"
      ]
     },
     "execution_count": 39,
     "metadata": {},
     "output_type": "execute_result"
    }
   ],
   "source": [
    "ri.inventory.mean()"
   ]
  },
  {
   "cell_type": "code",
   "execution_count": 40,
   "id": "d93d4be7",
   "metadata": {},
   "outputs": [
    {
     "data": {
      "text/plain": [
       "0.13335349259147264"
      ]
     },
     "execution_count": 40,
     "metadata": {},
     "output_type": "execute_result"
    }
   ],
   "source": [
    "searched = ri[ri.search_conducted == True]\n",
    "searched.inventory.mean()"
   ]
  },
  {
   "cell_type": "code",
   "execution_count": null,
   "id": "0a29930c",
   "metadata": {},
   "outputs": [],
   "source": []
  },
  {
   "cell_type": "code",
   "execution_count": null,
   "id": "10a7739e",
   "metadata": {},
   "outputs": [],
   "source": []
  }
 ],
 "metadata": {
  "kernelspec": {
   "display_name": "Python 3 (ipykernel)",
   "language": "python",
   "name": "python3"
  },
  "language_info": {
   "codemirror_mode": {
    "name": "ipython",
    "version": 3
   },
   "file_extension": ".py",
   "mimetype": "text/x-python",
   "name": "python",
   "nbconvert_exporter": "python",
   "pygments_lexer": "ipython3",
   "version": "3.9.7"
  }
 },
 "nbformat": 4,
 "nbformat_minor": 5
}
