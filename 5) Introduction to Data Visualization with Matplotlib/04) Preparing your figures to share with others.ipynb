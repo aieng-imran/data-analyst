{
 "cells": [
  {
   "cell_type": "markdown",
   "id": "fbb908b3",
   "metadata": {},
   "source": [
    "# Sharing Files\n",
    "\n",
    "1) Plotting Styles\n",
    "\n",
    "2) Saving the figure to file(different sizes, aspect ratios, & resolutions)\n",
    "\n",
    "3) Automating figures from data"
   ]
  },
  {
   "cell_type": "code",
   "execution_count": 1,
   "id": "0705117b",
   "metadata": {},
   "outputs": [
    {
     "name": "stdout",
     "output_type": "stream",
     "text": [
      "               Bronze  Gold  Silver\n",
      "United States      67   137      52\n",
      "Germany            67    47      43\n",
      "Great Britain      26    64      55\n",
      "Russia             35    50      28\n",
      "China              35    44      30\n"
     ]
    }
   ],
   "source": [
    "import pandas as pd\n",
    "import matplotlib.pyplot as plt\n",
    "\n",
    "medals = pd.read_csv('./Data/medals_by_country_2016.csv', index_col = 0)\n",
    "\n",
    "print(medals.head())"
   ]
  },
  {
   "cell_type": "markdown",
   "id": "980bcea2",
   "metadata": {},
   "source": [
    "## Plotting & Saving stylistic figure to file"
   ]
  },
  {
   "cell_type": "code",
   "execution_count": 4,
   "id": "20049efe",
   "metadata": {},
   "outputs": [
    {
     "data": {
      "image/png": "[encoded data removed]",
      "text/plain": [
       "<Figure size 216x360 with 1 Axes>"
      ]
     },
     "metadata": {},
     "output_type": "display_data"
    }
   ],
   "source": [
    "# https://stackoverflow.com/questions/63723514/userwarning-fixedformatter-should-only-be-used-together-with-fixedlocator\n",
    "\n",
    "plt.style.use(\"seaborn\")\n",
    "fig, ax = plt.subplots()\n",
    "\n",
    "\n",
    "import warnings\n",
    "warnings.filterwarnings(\"ignore\")\n",
    "\n",
    "ax.bar(medals.index, medals[\"Gold\"])\n",
    "ax.set_xticklabels(medals.index, rotation=90)\n",
    "ax.set_ylabel(\"Number of Medals\")\n",
    "\n",
    "# Saving in .png format\n",
    "fig.savefig(\"gold_medals.png\")\n",
    "\n",
    "\n",
    "# Saving in .jpg format\n",
    "fig.savefig(\"gold_medals.jpg\", quality = 50)\n",
    "\n",
    "### Adjust size/ Aspect Ratio\n",
    "fig.set_size_inches([3, 5])\n",
    "\n",
    "plt.show()"
   ]
  },
  {
   "cell_type": "markdown",
   "id": "159e8d5f",
   "metadata": {},
   "source": [
    "## Automating figures from data"
   ]
  },
  {
   "cell_type": "code",
   "execution_count": 11,
   "id": "ab5d99aa",
   "metadata": {},
   "outputs": [
    {
     "name": "stdout",
     "output_type": "stream",
     "text": [
      "     ID               Name Sex   Age  Height  Weight        Team  NOC  \\\n",
      "158  62  Giovanni Abagnale   M  21.0   198.0    90.0       Italy  ITA   \n",
      "161  65  Patimat Abakarova   F  21.0   165.0    49.0  Azerbaijan  AZE   \n",
      "175  73          Luc Abalo   M  31.0   182.0    86.0      France  FRA   \n",
      "\n",
      "           Games  Year  Season            City      Sport  \\\n",
      "158  2016 Summer  2016  Summer  Rio de Janeiro     Rowing   \n",
      "161  2016 Summer  2016  Summer  Rio de Janeiro  Taekwondo   \n",
      "175  2016 Summer  2016  Summer  Rio de Janeiro   Handball   \n",
      "\n",
      "                           Event   Medal  \n",
      "158   Rowing Men's Coxless Pairs  Bronze  \n",
      "161  Taekwondo Women's Flyweight  Bronze  \n",
      "175      Handball Men's Handball  Silver  \n"
     ]
    },
    {
     "data": {
      "text/plain": [
       "(2014, 15)"
      ]
     },
     "execution_count": 11,
     "metadata": {},
     "output_type": "execute_result"
    }
   ],
   "source": [
    "import pandas as pd\n",
    "import matplotlib.pyplot as plt\n",
    "\n",
    "sports = pd.read_csv('./Data/summer2016.csv', index_col = 0)\n",
    "print(sports.head(3))\n",
    "sports.shape"
   ]
  },
  {
   "cell_type": "code",
   "execution_count": null,
   "id": "9c0b338d",
   "metadata": {},
   "outputs": [],
   "source": [
    "fig, ax = plt.subplots()\n",
    "\n",
    "for sport in sports:\n",
    "    sport_df = summ[summer_2016_medals[\"Sport\"] == sport]\n",
    "    ax.bar(sport, sport_df[\"Height\"].mean(),\n",
    "        yerr=sport_df[\"Height\"].std())\n",
    "    \n",
    "ax.set_ylabel(\"Height (cm)\")\n",
    "ax.set_xticklabels(sports, rotation=90)\n",
    "plt.show()"
   ]
  },
  {
   "cell_type": "code",
   "execution_count": null,
   "id": "603002dc",
   "metadata": {},
   "outputs": [],
   "source": [
    "### ------ ### Refer to the Chapter 4 slides"
   ]
  },
  {
   "cell_type": "markdown",
   "id": "7ece580f",
   "metadata": {},
   "source": [
    "### Automate Exploratory Data Analysis with Pandas Profiling"
   ]
  },
  {
   "cell_type": "code",
   "execution_count": null,
   "id": "3db6af4b",
   "metadata": {},
   "outputs": [],
   "source": [
    "# https://towardsdatascience.com/automate-exploratory-data-analysis-with-pandas-profiling-90c1842d838f"
   ]
  },
  {
   "cell_type": "code",
   "execution_count": 11,
   "id": "15b9e994",
   "metadata": {},
   "outputs": [
    {
     "name": "stdout",
     "output_type": "stream",
     "text": [
      "Requirement already satisfied: pandas-profiling in c:\\users\\imran\\anaconda3\\lib\\site-packages (3.1.0)\n",
      "Requirement already satisfied: markupsafe~=2.0.1 in c:\\users\\imran\\anaconda3\\lib\\site-packages (from pandas-profiling) (2.0.1)\n",
      "Requirement already satisfied: requests>=2.24.0 in c:\\users\\imran\\anaconda3\\lib\\site-packages (from pandas-profiling) (2.26.0)\n",
      "Requirement already satisfied: scipy>=1.4.1 in c:\\users\\imran\\anaconda3\\lib\\site-packages (from pandas-profiling) (1.7.3)\n",
      "Requirement already satisfied: htmlmin>=0.1.12 in c:\\users\\imran\\anaconda3\\lib\\site-packages (from pandas-profiling) (0.1.12)\n",
      "Requirement already satisfied: pandas!=1.0.0,!=1.0.1,!=1.0.2,!=1.1.0,>=0.25.3 in c:\\users\\imran\\anaconda3\\lib\\site-packages (from pandas-profiling) (1.3.4)\n",
      "Requirement already satisfied: matplotlib>=3.2.0 in c:\\users\\imran\\anaconda3\\lib\\site-packages (from pandas-profiling) (3.5.0)\n",
      "Requirement already satisfied: jinja2>=2.11.1 in c:\\users\\imran\\anaconda3\\lib\\site-packages (from pandas-profiling) (2.11.3)\n",
      "Requirement already satisfied: numpy>=1.16.0 in c:\\users\\imran\\anaconda3\\lib\\site-packages (from pandas-profiling) (1.20.3)\n",
      "Requirement already satisfied: PyYAML>=5.0.0 in c:\\users\\imran\\anaconda3\\lib\\site-packages (from pandas-profiling) (6.0)\n",
      "Requirement already satisfied: phik>=0.11.1 in c:\\users\\imran\\anaconda3\\lib\\site-packages (from pandas-profiling) (0.12.0)\n",
      "Requirement already satisfied: tqdm>=4.48.2 in c:\\users\\imran\\anaconda3\\lib\\site-packages (from pandas-profiling) (4.62.3)\n",
      "Requirement already satisfied: seaborn>=0.10.1 in c:\\users\\imran\\anaconda3\\lib\\site-packages (from pandas-profiling) (0.11.2)\n",
      "Requirement already satisfied: multimethod>=1.4 in c:\\users\\imran\\anaconda3\\lib\\site-packages (from pandas-profiling) (1.6)\n",
      "Requirement already satisfied: pydantic>=1.8.1 in c:\\users\\imran\\anaconda3\\lib\\site-packages (from pandas-profiling) (1.8.2)\n",
      "Requirement already satisfied: missingno>=0.4.2 in c:\\users\\imran\\anaconda3\\lib\\site-packages (from pandas-profiling) (0.5.0)\n",
      "Requirement already satisfied: tangled-up-in-unicode==0.1.0 in c:\\users\\imran\\anaconda3\\lib\\site-packages (from pandas-profiling) (0.1.0)\n",
      "Requirement already satisfied: visions[type_image_path]==0.7.4 in c:\\users\\imran\\anaconda3\\lib\\site-packages (from pandas-profiling) (0.7.4)\n",
      "Requirement already satisfied: joblib~=1.0.1 in c:\\users\\imran\\anaconda3\\lib\\site-packages (from pandas-profiling) (1.0.1)\n",
      "Requirement already satisfied: attrs>=19.3.0 in c:\\users\\imran\\anaconda3\\lib\\site-packages (from visions[type_image_path]==0.7.4->pandas-profiling) (21.2.0)\n",
      "Requirement already satisfied: networkx>=2.4 in c:\\users\\imran\\anaconda3\\lib\\site-packages (from visions[type_image_path]==0.7.4->pandas-profiling) (2.6.3)\n",
      "Requirement already satisfied: Pillow in c:\\users\\imran\\anaconda3\\lib\\site-packages (from visions[type_image_path]==0.7.4->pandas-profiling) (8.4.0)\n",
      "Requirement already satisfied: imagehash in c:\\users\\imran\\anaconda3\\lib\\site-packages (from visions[type_image_path]==0.7.4->pandas-profiling) (4.2.1)\n",
      "Requirement already satisfied: pyparsing>=2.2.1 in c:\\users\\imran\\anaconda3\\lib\\site-packages (from matplotlib>=3.2.0->pandas-profiling) (3.0.4)\n",
      "Requirement already satisfied: python-dateutil>=2.7 in c:\\users\\imran\\anaconda3\\lib\\site-packages (from matplotlib>=3.2.0->pandas-profiling) (2.8.2)\n",
      "Requirement already satisfied: setuptools-scm>=4 in c:\\users\\imran\\anaconda3\\lib\\site-packages (from matplotlib>=3.2.0->pandas-profiling) (6.3.2)\n",
      "Requirement already satisfied: cycler>=0.10 in c:\\users\\imran\\anaconda3\\lib\\site-packages (from matplotlib>=3.2.0->pandas-profiling) (0.10.0)\n",
      "Requirement already satisfied: packaging>=20.0 in c:\\users\\imran\\anaconda3\\lib\\site-packages (from matplotlib>=3.2.0->pandas-profiling) (21.0)\n",
      "Requirement already satisfied: kiwisolver>=1.0.1 in c:\\users\\imran\\anaconda3\\lib\\site-packages (from matplotlib>=3.2.0->pandas-profiling) (1.3.1)\n",
      "Requirement already satisfied: fonttools>=4.22.0 in c:\\users\\imran\\anaconda3\\lib\\site-packages (from matplotlib>=3.2.0->pandas-profiling) (4.25.0)\n",
      "Requirement already satisfied: six in c:\\users\\imran\\anaconda3\\lib\\site-packages (from cycler>=0.10->matplotlib>=3.2.0->pandas-profiling) (1.16.0)\n",
      "Requirement already satisfied: pytz>=2017.3 in c:\\users\\imran\\anaconda3\\lib\\site-packages (from pandas!=1.0.0,!=1.0.1,!=1.0.2,!=1.1.0,>=0.25.3->pandas-profiling) (2021.3)\n",
      "Requirement already satisfied: typing-extensions>=3.7.4.3 in c:\\users\\imran\\anaconda3\\lib\\site-packages (from pydantic>=1.8.1->pandas-profiling) (3.10.0.2)\n",
      "Requirement already satisfied: certifi>=2017.4.17 in c:\\users\\imran\\anaconda3\\lib\\site-packages (from requests>=2.24.0->pandas-profiling) (2021.10.8)\n",
      "Requirement already satisfied: charset-normalizer~=2.0.0 in c:\\users\\imran\\anaconda3\\lib\\site-packages (from requests>=2.24.0->pandas-profiling) (2.0.4)\n",
      "Requirement already satisfied: urllib3<1.27,>=1.21.1 in c:\\users\\imran\\anaconda3\\lib\\site-packages (from requests>=2.24.0->pandas-profiling) (1.26.7)\n",
      "Requirement already satisfied: idna<4,>=2.5 in c:\\users\\imran\\anaconda3\\lib\\site-packages (from requests>=2.24.0->pandas-profiling) (3.2)\n",
      "Requirement already satisfied: setuptools in c:\\users\\imran\\anaconda3\\lib\\site-packages (from setuptools-scm>=4->matplotlib>=3.2.0->pandas-profiling) (58.0.4)\n",
      "Requirement already satisfied: tomli>=1.0.0 in c:\\users\\imran\\anaconda3\\lib\\site-packages (from setuptools-scm>=4->matplotlib>=3.2.0->pandas-profiling) (1.2.2)\n",
      "Requirement already satisfied: colorama in c:\\users\\imran\\anaconda3\\lib\\site-packages (from tqdm>=4.48.2->pandas-profiling) (0.4.4)\n",
      "Requirement already satisfied: PyWavelets in c:\\users\\imran\\anaconda3\\lib\\site-packages (from imagehash->visions[type_image_path]==0.7.4->pandas-profiling) (1.1.1)\n",
      "Note: you may need to restart the kernel to use updated packages.\n"
     ]
    }
   ],
   "source": [
    "pip install pandas-profiling"
   ]
  },
  {
   "cell_type": "code",
   "execution_count": 9,
   "id": "cada110c",
   "metadata": {},
   "outputs": [],
   "source": [
    "from pandas_profiling import ProfileReport\n",
    "import pandas as pd\n",
    "df = pd.read_csv('./Data/summer2016.csv', index_col = 0)\n",
    "profile = ProfileReport(df, title=\"Pandas Profiling Report\")"
   ]
  },
  {
   "cell_type": "code",
   "execution_count": 10,
   "id": "18e72cb0",
   "metadata": {},
   "outputs": [
    {
     "data": {
      "application/vnd.jupyter.widget-view+json": {
       "model_id": "2bec15f548b5467c839f953bb97184a7",
       "version_major": 2,
       "version_minor": 0
      },
      "text/plain": [
       "Summarize dataset:   0%|          | 0/5 [00:00<?, ?it/s]"
      ]
     },
     "metadata": {},
     "output_type": "display_data"
    },
    {
     "data": {
      "application/vnd.jupyter.widget-view+json": {
       "model_id": "6c4a182b16bc4c5098c90c017d14ea18",
       "version_major": 2,
       "version_minor": 0
      },
      "text/plain": [
       "Generate report structure:   0%|          | 0/1 [00:00<?, ?it/s]"
      ]
     },
     "metadata": {},
     "output_type": "display_data"
    },
    {
     "data": {
      "application/vnd.jupyter.widget-view+json": {
       "model_id": "0b287100ef374a408dd973cbd605be15",
       "version_major": 2,
       "version_minor": 0
      },
      "text/plain": [
       "Render HTML:   0%|          | 0/1 [00:00<?, ?it/s]"
      ]
     },
     "metadata": {},
     "output_type": "display_data"
    },
    {
     "data": {
      "application/vnd.jupyter.widget-view+json": {
       "model_id": "61f744f74a634222891f46978bd24ac1",
       "version_major": 2,
       "version_minor": 0
      },
      "text/plain": [
       "Export report to file:   0%|          | 0/1 [00:00<?, ?it/s]"
      ]
     },
     "metadata": {},
     "output_type": "display_data"
    }
   ],
   "source": [
    "profile.to_file(\"your_report.html\")"
   ]
  },
  {
   "cell_type": "code",
   "execution_count": null,
   "id": "e78d4af3",
   "metadata": {},
   "outputs": [],
   "source": []
  },
  {
   "cell_type": "code",
   "execution_count": null,
   "id": "26259246",
   "metadata": {},
   "outputs": [],
   "source": []
  },
  {
   "cell_type": "code",
   "execution_count": null,
   "id": "ffe6bdf5",
   "metadata": {},
   "outputs": [],
   "source": []
  },
  {
   "cell_type": "code",
   "execution_count": null,
   "id": "24af71e3",
   "metadata": {},
   "outputs": [],
   "source": []
  },
  {
   "cell_type": "code",
   "execution_count": null,
   "id": "7d2d8077",
   "metadata": {},
   "outputs": [],
   "source": []
  },
  {
   "cell_type": "code",
   "execution_count": null,
   "id": "24803f55",
   "metadata": {},
   "outputs": [],
   "source": []
  },
  {
   "cell_type": "code",
   "execution_count": null,
   "id": "c0324922",
   "metadata": {},
   "outputs": [],
   "source": []
  },
  {
   "cell_type": "code",
   "execution_count": null,
   "id": "0bda0a2b",
   "metadata": {},
   "outputs": [],
   "source": []
  },
  {
   "cell_type": "code",
   "execution_count": null,
   "id": "b24dc021",
   "metadata": {},
   "outputs": [],
   "source": []
  }
 ],
 "metadata": {
  "kernelspec": {
   "display_name": "Python 3 (ipykernel)",
   "language": "python",
   "name": "python3"
  },
  "language_info": {
   "codemirror_mode": {
    "name": "ipython",
    "version": 3
   },
   "file_extension": ".py",
   "mimetype": "text/x-python",
   "name": "python",
   "nbconvert_exporter": "python",
   "pygments_lexer": "ipython3",
   "version": "3.9.7"
  }
 },
 "nbformat": 4,
 "nbformat_minor": 5
}
